{
 "cells": [
  {
   "cell_type": "markdown",
   "metadata": {},
   "source": [
    "# DataFrame and Series Basics"
   ]
  },
  {
   "cell_type": "code",
   "execution_count": 68,
   "metadata": {},
   "outputs": [],
   "source": [
    "import pandas as pd"
   ]
  },
  {
   "cell_type": "code",
   "execution_count": 69,
   "metadata": {},
   "outputs": [
    {
     "data": {
      "text/plain": "['Corey', 'Jane', 'John']"
     },
     "execution_count": 69,
     "metadata": {},
     "output_type": "execute_result"
    }
   ],
   "source": [
    "people = {\n",
    "    \"first\": [\"Corey\", \"Jane\", \"John\"],\n",
    "    \"last\": [\"Schafer\", \"Doe\", \"Doe\"],\n",
    "    \"email\": [\"CoreyMSchafer@gmail.com\", \"JaneDoe@email.com\", \"JohnDoe@gmail.com\"]\n",
    "}\n",
    "\n",
    "people[\"first\"]"
   ]
  },
  {
   "cell_type": "code",
   "execution_count": 70,
   "metadata": {},
   "outputs": [],
   "source": [
    "df = pd.DataFrame(people)"
   ]
  },
  {
   "cell_type": "code",
   "execution_count": 71,
   "metadata": {},
   "outputs": [
    {
     "data": {
      "text/plain": "0    Corey\n1     Jane\n2     John\nName: first, dtype: object"
     },
     "execution_count": 71,
     "metadata": {},
     "output_type": "execute_result"
    }
   ],
   "source": [
    "df[\"first\"]  # returns a Series"
   ]
  },
  {
   "cell_type": "code",
   "execution_count": 72,
   "metadata": {},
   "outputs": [
    {
     "data": {
      "text/html": "<div>\n<style scoped>\n    .dataframe tbody tr th:only-of-type {\n        vertical-align: middle;\n    }\n\n    .dataframe tbody tr th {\n        vertical-align: top;\n    }\n\n    .dataframe thead th {\n        text-align: right;\n    }\n</style>\n<table border=\"1\" class=\"dataframe\">\n  <thead>\n    <tr style=\"text-align: right;\">\n      <th></th>\n      <th>first</th>\n      <th>last</th>\n    </tr>\n  </thead>\n  <tbody>\n    <tr>\n      <th>0</th>\n      <td>Corey</td>\n      <td>Schafer</td>\n    </tr>\n    <tr>\n      <th>1</th>\n      <td>Jane</td>\n      <td>Doe</td>\n    </tr>\n    <tr>\n      <th>2</th>\n      <td>John</td>\n      <td>Doe</td>\n    </tr>\n  </tbody>\n</table>\n</div>",
      "text/plain": "   first     last\n0  Corey  Schafer\n1   Jane      Doe\n2   John      Doe"
     },
     "execution_count": 72,
     "metadata": {},
     "output_type": "execute_result"
    }
   ],
   "source": [
    "df[[\"first\", \"last\"]]  # returns a DataFrame"
   ]
  },
  {
   "cell_type": "code",
   "execution_count": 73,
   "metadata": {},
   "outputs": [
    {
     "data": {
      "text/plain": "Index(['first', 'last', 'email'], dtype='object')"
     },
     "execution_count": 73,
     "metadata": {},
     "output_type": "execute_result"
    }
   ],
   "source": [
    "df.columns"
   ]
  },
  {
   "cell_type": "code",
   "execution_count": 74,
   "metadata": {},
   "outputs": [],
   "source": [
    "df.index = ['cs', 'janed', 'johnd']"
   ]
  },
  {
   "cell_type": "code",
   "execution_count": 75,
   "metadata": {},
   "outputs": [
    {
     "data": {
      "text/html": "<div>\n<style scoped>\n    .dataframe tbody tr th:only-of-type {\n        vertical-align: middle;\n    }\n\n    .dataframe tbody tr th {\n        vertical-align: top;\n    }\n\n    .dataframe thead th {\n        text-align: right;\n    }\n</style>\n<table border=\"1\" class=\"dataframe\">\n  <thead>\n    <tr style=\"text-align: right;\">\n      <th></th>\n      <th>first</th>\n      <th>last</th>\n      <th>email</th>\n    </tr>\n  </thead>\n  <tbody>\n    <tr>\n      <th>cs</th>\n      <td>Corey</td>\n      <td>Schafer</td>\n      <td>CoreyMSchafer@gmail.com</td>\n    </tr>\n    <tr>\n      <th>janed</th>\n      <td>Jane</td>\n      <td>Doe</td>\n      <td>JaneDoe@email.com</td>\n    </tr>\n  </tbody>\n</table>\n</div>",
      "text/plain": "       first     last                    email\ncs     Corey  Schafer  CoreyMSchafer@gmail.com\njaned   Jane      Doe        JaneDoe@email.com"
     },
     "execution_count": 75,
     "metadata": {},
     "output_type": "execute_result"
    }
   ],
   "source": [
    "df.loc[['cs', 'janed']]"
   ]
  },
  {
   "cell_type": "code",
   "execution_count": 76,
   "metadata": {},
   "outputs": [
    {
     "data": {
      "text/html": "<div>\n<style scoped>\n    .dataframe tbody tr th:only-of-type {\n        vertical-align: middle;\n    }\n\n    .dataframe tbody tr th {\n        vertical-align: top;\n    }\n\n    .dataframe thead th {\n        text-align: right;\n    }\n</style>\n<table border=\"1\" class=\"dataframe\">\n  <thead>\n    <tr style=\"text-align: right;\">\n      <th></th>\n      <th>first</th>\n      <th>last</th>\n    </tr>\n  </thead>\n  <tbody>\n    <tr>\n      <th>cs</th>\n      <td>Corey</td>\n      <td>Schafer</td>\n    </tr>\n    <tr>\n      <th>janed</th>\n      <td>Jane</td>\n      <td>Doe</td>\n    </tr>\n  </tbody>\n</table>\n</div>",
      "text/plain": "       first     last\ncs     Corey  Schafer\njaned   Jane      Doe"
     },
     "execution_count": 76,
     "metadata": {},
     "output_type": "execute_result"
    }
   ],
   "source": [
    "df.iloc[[0, 1], [0, 1]]"
   ]
  },
  {
   "cell_type": "code",
   "execution_count": 77,
   "metadata": {},
   "outputs": [
    {
     "data": {
      "text/html": "<div>\n<style scoped>\n    .dataframe tbody tr th:only-of-type {\n        vertical-align: middle;\n    }\n\n    .dataframe tbody tr th {\n        vertical-align: top;\n    }\n\n    .dataframe thead th {\n        text-align: right;\n    }\n</style>\n<table border=\"1\" class=\"dataframe\">\n  <thead>\n    <tr style=\"text-align: right;\">\n      <th></th>\n      <th>first</th>\n      <th>last</th>\n      <th>email</th>\n    </tr>\n  </thead>\n  <tbody>\n    <tr>\n      <th>cs</th>\n      <td>Corey</td>\n      <td>Schafer</td>\n      <td>CoreyMSchafer@gmail.com</td>\n    </tr>\n    <tr>\n      <th>janed</th>\n      <td>Jane</td>\n      <td>Doe</td>\n      <td>JaneDoe@email.com</td>\n    </tr>\n  </tbody>\n</table>\n</div>",
      "text/plain": "       first     last                    email\ncs     Corey  Schafer  CoreyMSchafer@gmail.com\njaned   Jane      Doe        JaneDoe@email.com"
     },
     "execution_count": 77,
     "metadata": {},
     "output_type": "execute_result"
    }
   ],
   "source": [
    "df.iloc[0:2]"
   ]
  },
  {
   "cell_type": "code",
   "execution_count": 78,
   "metadata": {},
   "outputs": [
    {
     "data": {
      "text/plain": "cs       CoreyMSchafer@gmail.com\njaned          JaneDoe@email.com\njohnd          JohnDoe@gmail.com\nName: email, dtype: object"
     },
     "execution_count": 78,
     "metadata": {},
     "output_type": "execute_result"
    }
   ],
   "source": [
    "df['email']"
   ]
  },
  {
   "cell_type": "markdown",
   "metadata": {},
   "source": [
    "# Using indexes"
   ]
  },
  {
   "cell_type": "code",
   "execution_count": 79,
   "metadata": {},
   "outputs": [],
   "source": [
    "df.set_index('email', inplace=True)"
   ]
  },
  {
   "cell_type": "code",
   "execution_count": 80,
   "metadata": {},
   "outputs": [
    {
     "data": {
      "text/html": "<div>\n<style scoped>\n    .dataframe tbody tr th:only-of-type {\n        vertical-align: middle;\n    }\n\n    .dataframe tbody tr th {\n        vertical-align: top;\n    }\n\n    .dataframe thead th {\n        text-align: right;\n    }\n</style>\n<table border=\"1\" class=\"dataframe\">\n  <thead>\n    <tr style=\"text-align: right;\">\n      <th></th>\n      <th>first</th>\n      <th>last</th>\n    </tr>\n    <tr>\n      <th>email</th>\n      <th></th>\n      <th></th>\n    </tr>\n  </thead>\n  <tbody>\n    <tr>\n      <th>CoreyMSchafer@gmail.com</th>\n      <td>Corey</td>\n      <td>Schafer</td>\n    </tr>\n    <tr>\n      <th>JaneDoe@email.com</th>\n      <td>Jane</td>\n      <td>Doe</td>\n    </tr>\n    <tr>\n      <th>JohnDoe@gmail.com</th>\n      <td>John</td>\n      <td>Doe</td>\n    </tr>\n  </tbody>\n</table>\n</div>",
      "text/plain": "                         first     last\nemail                                  \nCoreyMSchafer@gmail.com  Corey  Schafer\nJaneDoe@email.com         Jane      Doe\nJohnDoe@gmail.com         John      Doe"
     },
     "execution_count": 80,
     "metadata": {},
     "output_type": "execute_result"
    }
   ],
   "source": [
    "df"
   ]
  },
  {
   "cell_type": "code",
   "execution_count": 81,
   "metadata": {},
   "outputs": [
    {
     "data": {
      "text/plain": "Index(['CoreyMSchafer@gmail.com', 'JaneDoe@email.com', 'JohnDoe@gmail.com'], dtype='object', name='email')"
     },
     "execution_count": 81,
     "metadata": {},
     "output_type": "execute_result"
    }
   ],
   "source": [
    "df.index"
   ]
  },
  {
   "cell_type": "code",
   "execution_count": 82,
   "metadata": {},
   "outputs": [
    {
     "data": {
      "text/html": "<div>\n<style scoped>\n    .dataframe tbody tr th:only-of-type {\n        vertical-align: middle;\n    }\n\n    .dataframe tbody tr th {\n        vertical-align: top;\n    }\n\n    .dataframe thead th {\n        text-align: right;\n    }\n</style>\n<table border=\"1\" class=\"dataframe\">\n  <thead>\n    <tr style=\"text-align: right;\">\n      <th></th>\n      <th>email</th>\n      <th>first</th>\n      <th>last</th>\n    </tr>\n  </thead>\n  <tbody>\n    <tr>\n      <th>0</th>\n      <td>CoreyMSchafer@gmail.com</td>\n      <td>Corey</td>\n      <td>Schafer</td>\n    </tr>\n    <tr>\n      <th>1</th>\n      <td>JaneDoe@email.com</td>\n      <td>Jane</td>\n      <td>Doe</td>\n    </tr>\n    <tr>\n      <th>2</th>\n      <td>JohnDoe@gmail.com</td>\n      <td>John</td>\n      <td>Doe</td>\n    </tr>\n  </tbody>\n</table>\n</div>",
      "text/plain": "                     email  first     last\n0  CoreyMSchafer@gmail.com  Corey  Schafer\n1        JaneDoe@email.com   Jane      Doe\n2        JohnDoe@gmail.com   John      Doe"
     },
     "execution_count": 82,
     "metadata": {},
     "output_type": "execute_result"
    }
   ],
   "source": [
    "df.reset_index()  # note it returns, you can also use inplace=True"
   ]
  },
  {
   "cell_type": "markdown",
   "metadata": {},
   "source": [
    "# Filtering"
   ]
  },
  {
   "cell_type": "code",
   "execution_count": 84,
   "metadata": {},
   "outputs": [],
   "source": [
    "critieria = df['last'] == 'Doe'"
   ]
  },
  {
   "cell_type": "code",
   "execution_count": 85,
   "metadata": {},
   "outputs": [
    {
     "data": {
      "text/html": "<div>\n<style scoped>\n    .dataframe tbody tr th:only-of-type {\n        vertical-align: middle;\n    }\n\n    .dataframe tbody tr th {\n        vertical-align: top;\n    }\n\n    .dataframe thead th {\n        text-align: right;\n    }\n</style>\n<table border=\"1\" class=\"dataframe\">\n  <thead>\n    <tr style=\"text-align: right;\">\n      <th></th>\n      <th>first</th>\n      <th>last</th>\n    </tr>\n    <tr>\n      <th>email</th>\n      <th></th>\n      <th></th>\n    </tr>\n  </thead>\n  <tbody>\n    <tr>\n      <th>JaneDoe@email.com</th>\n      <td>Jane</td>\n      <td>Doe</td>\n    </tr>\n    <tr>\n      <th>JohnDoe@gmail.com</th>\n      <td>John</td>\n      <td>Doe</td>\n    </tr>\n  </tbody>\n</table>\n</div>",
      "text/plain": "                  first last\nemail                       \nJaneDoe@email.com  Jane  Doe\nJohnDoe@gmail.com  John  Doe"
     },
     "execution_count": 85,
     "metadata": {},
     "output_type": "execute_result"
    }
   ],
   "source": [
    "df[critieria]"
   ]
  },
  {
   "cell_type": "code",
   "execution_count": 86,
   "metadata": {},
   "outputs": [
    {
     "data": {
      "text/html": "<div>\n<style scoped>\n    .dataframe tbody tr th:only-of-type {\n        vertical-align: middle;\n    }\n\n    .dataframe tbody tr th {\n        vertical-align: top;\n    }\n\n    .dataframe thead th {\n        text-align: right;\n    }\n</style>\n<table border=\"1\" class=\"dataframe\">\n  <thead>\n    <tr style=\"text-align: right;\">\n      <th></th>\n      <th>first</th>\n      <th>last</th>\n    </tr>\n    <tr>\n      <th>email</th>\n      <th></th>\n      <th></th>\n    </tr>\n  </thead>\n  <tbody>\n    <tr>\n      <th>JaneDoe@email.com</th>\n      <td>Jane</td>\n      <td>Doe</td>\n    </tr>\n    <tr>\n      <th>JohnDoe@gmail.com</th>\n      <td>John</td>\n      <td>Doe</td>\n    </tr>\n  </tbody>\n</table>\n</div>",
      "text/plain": "                  first last\nemail                       \nJaneDoe@email.com  Jane  Doe\nJohnDoe@gmail.com  John  Doe"
     },
     "execution_count": 86,
     "metadata": {},
     "output_type": "execute_result"
    }
   ],
   "source": [
    "df.loc[critieria]"
   ]
  },
  {
   "cell_type": "code",
   "execution_count": 87,
   "metadata": {},
   "outputs": [
    {
     "data": {
      "text/plain": "email\nJaneDoe@email.com    Jane\nJohnDoe@gmail.com    John\nName: first, dtype: object"
     },
     "execution_count": 87,
     "metadata": {},
     "output_type": "execute_result"
    }
   ],
   "source": [
    "df.loc[critieria, 'first']"
   ]
  },
  {
   "cell_type": "code",
   "execution_count": 88,
   "metadata": {},
   "outputs": [],
   "source": [
    "critieria = (df['last'] == 'Schafer') | (df['first'] == 'John')\n"
   ]
  },
  {
   "cell_type": "code",
   "execution_count": 89,
   "metadata": {},
   "outputs": [
    {
     "data": {
      "text/plain": "email\nCoreyMSchafer@gmail.com    Corey\nJohnDoe@gmail.com           John\nName: first, dtype: object"
     },
     "execution_count": 89,
     "metadata": {},
     "output_type": "execute_result"
    }
   ],
   "source": [
    "df.loc[critieria, 'first']"
   ]
  },
  {
   "cell_type": "code",
   "execution_count": 90,
   "metadata": {},
   "outputs": [
    {
     "data": {
      "text/plain": "email\nJaneDoe@email.com    Jane\nName: first, dtype: object"
     },
     "execution_count": 90,
     "metadata": {},
     "output_type": "execute_result"
    }
   ],
   "source": [
    "df.loc[~critieria, 'first']"
   ]
  },
  {
   "cell_type": "markdown",
   "metadata": {},
   "source": [
    "# Updating Rows and Columns"
   ]
  },
  {
   "cell_type": "code",
   "execution_count": 145,
   "metadata": {},
   "outputs": [],
   "source": [
    "df = pd.DataFrame(people)"
   ]
  },
  {
   "cell_type": "code",
   "execution_count": 146,
   "metadata": {},
   "outputs": [
    {
     "data": {
      "text/plain": "Index(['first', 'last', 'email'], dtype='object')"
     },
     "execution_count": 146,
     "metadata": {},
     "output_type": "execute_result"
    }
   ],
   "source": [
    "df.columns"
   ]
  },
  {
   "cell_type": "code",
   "execution_count": 147,
   "metadata": {},
   "outputs": [
    {
     "data": {
      "text/html": "<div>\n<style scoped>\n    .dataframe tbody tr th:only-of-type {\n        vertical-align: middle;\n    }\n\n    .dataframe tbody tr th {\n        vertical-align: top;\n    }\n\n    .dataframe thead th {\n        text-align: right;\n    }\n</style>\n<table border=\"1\" class=\"dataframe\">\n  <thead>\n    <tr style=\"text-align: right;\">\n      <th></th>\n      <th>first_name</th>\n      <th>last_name</th>\n      <th>email</th>\n    </tr>\n  </thead>\n  <tbody>\n    <tr>\n      <th>0</th>\n      <td>Corey</td>\n      <td>Schafer</td>\n      <td>CoreyMSchafer@gmail.com</td>\n    </tr>\n    <tr>\n      <th>1</th>\n      <td>Jane</td>\n      <td>Doe</td>\n      <td>JaneDoe@email.com</td>\n    </tr>\n    <tr>\n      <th>2</th>\n      <td>John</td>\n      <td>Doe</td>\n      <td>JohnDoe@gmail.com</td>\n    </tr>\n  </tbody>\n</table>\n</div>",
      "text/plain": "  first_name last_name                    email\n0      Corey   Schafer  CoreyMSchafer@gmail.com\n1       Jane       Doe        JaneDoe@email.com\n2       John       Doe        JohnDoe@gmail.com"
     },
     "execution_count": 147,
     "metadata": {},
     "output_type": "execute_result"
    }
   ],
   "source": [
    "df.columns = ['first_name', 'last_name', 'email']\n",
    "df"
   ]
  },
  {
   "cell_type": "code",
   "execution_count": 148,
   "metadata": {},
   "outputs": [
    {
     "data": {
      "text/html": "<div>\n<style scoped>\n    .dataframe tbody tr th:only-of-type {\n        vertical-align: middle;\n    }\n\n    .dataframe tbody tr th {\n        vertical-align: top;\n    }\n\n    .dataframe thead th {\n        text-align: right;\n    }\n</style>\n<table border=\"1\" class=\"dataframe\">\n  <thead>\n    <tr style=\"text-align: right;\">\n      <th></th>\n      <th>FIRST_NAME</th>\n      <th>LAST_NAME</th>\n      <th>EMAIL</th>\n    </tr>\n  </thead>\n  <tbody>\n    <tr>\n      <th>0</th>\n      <td>Corey</td>\n      <td>Schafer</td>\n      <td>CoreyMSchafer@gmail.com</td>\n    </tr>\n    <tr>\n      <th>1</th>\n      <td>Jane</td>\n      <td>Doe</td>\n      <td>JaneDoe@email.com</td>\n    </tr>\n    <tr>\n      <th>2</th>\n      <td>John</td>\n      <td>Doe</td>\n      <td>JohnDoe@gmail.com</td>\n    </tr>\n  </tbody>\n</table>\n</div>",
      "text/plain": "  FIRST_NAME LAST_NAME                    EMAIL\n0      Corey   Schafer  CoreyMSchafer@gmail.com\n1       Jane       Doe        JaneDoe@email.com\n2       John       Doe        JohnDoe@gmail.com"
     },
     "execution_count": 148,
     "metadata": {},
     "output_type": "execute_result"
    }
   ],
   "source": [
    "df.columns = [col.upper() for col in df.columns]\n",
    "df"
   ]
  },
  {
   "cell_type": "code",
   "execution_count": 149,
   "metadata": {},
   "outputs": [
    {
     "data": {
      "text/html": "<div>\n<style scoped>\n    .dataframe tbody tr th:only-of-type {\n        vertical-align: middle;\n    }\n\n    .dataframe tbody tr th {\n        vertical-align: top;\n    }\n\n    .dataframe thead th {\n        text-align: right;\n    }\n</style>\n<table border=\"1\" class=\"dataframe\">\n  <thead>\n    <tr style=\"text-align: right;\">\n      <th></th>\n      <th>FIRST_NAME</th>\n      <th>LAST_NAME</th>\n      <th>EMAIL</th>\n    </tr>\n  </thead>\n  <tbody>\n    <tr>\n      <th>0</th>\n      <td>Corey</td>\n      <td>Schafer</td>\n      <td>CoreyMSchafer@gmail.com</td>\n    </tr>\n    <tr>\n      <th>1</th>\n      <td>Jane</td>\n      <td>Doe</td>\n      <td>JaneDoe@email.com</td>\n    </tr>\n    <tr>\n      <th>2</th>\n      <td>John</td>\n      <td>Doe</td>\n      <td>JohnDoe@gmail.com</td>\n    </tr>\n  </tbody>\n</table>\n</div>",
      "text/plain": "  FIRST_NAME LAST_NAME                    EMAIL\n0      Corey   Schafer  CoreyMSchafer@gmail.com\n1       Jane       Doe        JaneDoe@email.com\n2       John       Doe        JohnDoe@gmail.com"
     },
     "execution_count": 149,
     "metadata": {},
     "output_type": "execute_result"
    }
   ],
   "source": [
    "df.columns = df.columns.str.upper()\n",
    "df"
   ]
  },
  {
   "cell_type": "code",
   "execution_count": 150,
   "metadata": {},
   "outputs": [
    {
     "data": {
      "text/html": "<div>\n<style scoped>\n    .dataframe tbody tr th:only-of-type {\n        vertical-align: middle;\n    }\n\n    .dataframe tbody tr th {\n        vertical-align: top;\n    }\n\n    .dataframe thead th {\n        text-align: right;\n    }\n</style>\n<table border=\"1\" class=\"dataframe\">\n  <thead>\n    <tr style=\"text-align: right;\">\n      <th></th>\n      <th>first</th>\n      <th>last</th>\n      <th>email</th>\n    </tr>\n  </thead>\n  <tbody>\n    <tr>\n      <th>0</th>\n      <td>Corey</td>\n      <td>Schafer</td>\n      <td>CoreyMSchafer@gmail.com</td>\n    </tr>\n    <tr>\n      <th>1</th>\n      <td>Jane</td>\n      <td>Doe</td>\n      <td>JaneDoe@email.com</td>\n    </tr>\n    <tr>\n      <th>2</th>\n      <td>John</td>\n      <td>Doe</td>\n      <td>JohnDoe@gmail.com</td>\n    </tr>\n  </tbody>\n</table>\n</div>",
      "text/plain": "   first     last                    email\n0  Corey  Schafer  CoreyMSchafer@gmail.com\n1   Jane      Doe        JaneDoe@email.com\n2   John      Doe        JohnDoe@gmail.com"
     },
     "execution_count": 150,
     "metadata": {},
     "output_type": "execute_result"
    }
   ],
   "source": [
    "df.rename(columns = {'FIRST_NAME': 'first', 'LAST_NAME': 'last', 'EMAIL': 'email'}, inplace=True)\n",
    "df"
   ]
  },
  {
   "cell_type": "code",
   "execution_count": 151,
   "metadata": {},
   "outputs": [
    {
     "data": {
      "text/html": "<div>\n<style scoped>\n    .dataframe tbody tr th:only-of-type {\n        vertical-align: middle;\n    }\n\n    .dataframe tbody tr th {\n        vertical-align: top;\n    }\n\n    .dataframe thead th {\n        text-align: right;\n    }\n</style>\n<table border=\"1\" class=\"dataframe\">\n  <thead>\n    <tr style=\"text-align: right;\">\n      <th></th>\n      <th>first</th>\n      <th>last</th>\n      <th>email</th>\n    </tr>\n  </thead>\n  <tbody>\n    <tr>\n      <th>0</th>\n      <td>Corey</td>\n      <td>Schafer</td>\n      <td>CoreyMSchafer@gmail.com</td>\n    </tr>\n    <tr>\n      <th>1</th>\n      <td>Jane</td>\n      <td>Doe</td>\n      <td>JaneDoe@email.com</td>\n    </tr>\n    <tr>\n      <th>2</th>\n      <td>John</td>\n      <td>Smith</td>\n      <td>JohnSmith@email.com</td>\n    </tr>\n  </tbody>\n</table>\n</div>",
      "text/plain": "   first     last                    email\n0  Corey  Schafer  CoreyMSchafer@gmail.com\n1   Jane      Doe        JaneDoe@email.com\n2   John    Smith      JohnSmith@email.com"
     },
     "execution_count": 151,
     "metadata": {},
     "output_type": "execute_result"
    }
   ],
   "source": [
    "df.loc[2] = ['John', 'Smith', 'JohnSmith@email.com']\n",
    "df"
   ]
  },
  {
   "cell_type": "code",
   "execution_count": 152,
   "metadata": {},
   "outputs": [
    {
     "data": {
      "text/html": "<div>\n<style scoped>\n    .dataframe tbody tr th:only-of-type {\n        vertical-align: middle;\n    }\n\n    .dataframe tbody tr th {\n        vertical-align: top;\n    }\n\n    .dataframe thead th {\n        text-align: right;\n    }\n</style>\n<table border=\"1\" class=\"dataframe\">\n  <thead>\n    <tr style=\"text-align: right;\">\n      <th></th>\n      <th>first</th>\n      <th>last</th>\n      <th>email</th>\n    </tr>\n  </thead>\n  <tbody>\n    <tr>\n      <th>0</th>\n      <td>Corey</td>\n      <td>Schafer</td>\n      <td>CoreyMSchafer@gmail.com</td>\n    </tr>\n    <tr>\n      <th>1</th>\n      <td>Jane</td>\n      <td>Doe</td>\n      <td>JaneDoe@email.com</td>\n    </tr>\n    <tr>\n      <th>2</th>\n      <td>John</td>\n      <td>Doe</td>\n      <td>JohnDoe@email.com</td>\n    </tr>\n  </tbody>\n</table>\n</div>",
      "text/plain": "   first     last                    email\n0  Corey  Schafer  CoreyMSchafer@gmail.com\n1   Jane      Doe        JaneDoe@email.com\n2   John      Doe        JohnDoe@email.com"
     },
     "execution_count": 152,
     "metadata": {},
     "output_type": "execute_result"
    }
   ],
   "source": [
    "df.loc[2, ['last', 'email']] = ['Doe', 'JohnDoe@email.com']\n",
    "df"
   ]
  },
  {
   "cell_type": "code",
   "execution_count": 153,
   "metadata": {},
   "outputs": [
    {
     "data": {
      "text/html": "<div>\n<style scoped>\n    .dataframe tbody tr th:only-of-type {\n        vertical-align: middle;\n    }\n\n    .dataframe tbody tr th {\n        vertical-align: top;\n    }\n\n    .dataframe thead th {\n        text-align: right;\n    }\n</style>\n<table border=\"1\" class=\"dataframe\">\n  <thead>\n    <tr style=\"text-align: right;\">\n      <th></th>\n      <th>first</th>\n      <th>last</th>\n      <th>email</th>\n    </tr>\n  </thead>\n  <tbody>\n    <tr>\n      <th>0</th>\n      <td>Corey</td>\n      <td>Schafer</td>\n      <td>CoreyMSchafer@gmail.com</td>\n    </tr>\n    <tr>\n      <th>1</th>\n      <td>Jane</td>\n      <td>Doe</td>\n      <td>JaneDoe@email.com</td>\n    </tr>\n    <tr>\n      <th>2</th>\n      <td>John</td>\n      <td>Smith</td>\n      <td>JohnDoe@email.com</td>\n    </tr>\n  </tbody>\n</table>\n</div>",
      "text/plain": "   first     last                    email\n0  Corey  Schafer  CoreyMSchafer@gmail.com\n1   Jane      Doe        JaneDoe@email.com\n2   John    Smith        JohnDoe@email.com"
     },
     "execution_count": 153,
     "metadata": {},
     "output_type": "execute_result"
    }
   ],
   "source": [
    "df.loc[2, 'last'] = 'Smith'\n",
    "df"
   ]
  },
  {
   "cell_type": "code",
   "execution_count": 154,
   "metadata": {},
   "outputs": [
    {
     "data": {
      "text/html": "<div>\n<style scoped>\n    .dataframe tbody tr th:only-of-type {\n        vertical-align: middle;\n    }\n\n    .dataframe tbody tr th {\n        vertical-align: top;\n    }\n\n    .dataframe thead th {\n        text-align: right;\n    }\n</style>\n<table border=\"1\" class=\"dataframe\">\n  <thead>\n    <tr style=\"text-align: right;\">\n      <th></th>\n      <th>first</th>\n      <th>last</th>\n      <th>email</th>\n    </tr>\n  </thead>\n  <tbody>\n    <tr>\n      <th>0</th>\n      <td>Corey</td>\n      <td>Schafer</td>\n      <td>CoreyMSchafer@gmail.com</td>\n    </tr>\n    <tr>\n      <th>1</th>\n      <td>Jane</td>\n      <td>Doe</td>\n      <td>JaneDoe@email.com</td>\n    </tr>\n    <tr>\n      <th>2</th>\n      <td>John</td>\n      <td>Smith</td>\n      <td>JohnDoe@email.com</td>\n    </tr>\n  </tbody>\n</table>\n</div>",
      "text/plain": "   first     last                    email\n0  Corey  Schafer  CoreyMSchafer@gmail.com\n1   Jane      Doe        JaneDoe@email.com\n2   John    Smith        JohnDoe@email.com"
     },
     "execution_count": 154,
     "metadata": {},
     "output_type": "execute_result"
    }
   ],
   "source": [
    "df.at[2, 'last'] = 'Smith'\n",
    "df"
   ]
  },
  {
   "cell_type": "markdown",
   "metadata": {},
   "source": [
    "What happens if you forget to use `.at` or `.loc` to update a value? It sometimes goes wrong for people like this..."
   ]
  },
  {
   "cell_type": "code",
   "execution_count": 155,
   "metadata": {},
   "outputs": [
    {
     "name": "stderr",
     "output_type": "stream",
     "text": [
      "<ipython-input-155-31a7d99a0cfb>:2: SettingWithCopyWarning: \n",
      "A value is trying to be set on a copy of a slice from a DataFrame.\n",
      "Try using .loc[row_indexer,col_indexer] = value instead\n",
      "\n",
      "See the caveats in the documentation: https://pandas.pydata.org/pandas-docs/stable/user_guide/indexing.html#returning-a-view-versus-a-copy\n",
      "  df[criteria]['last'] = 'Doe'  # causes a warning for (fairly) obvious reasons\n"
     ]
    }
   ],
   "source": [
    "criteria = (df['email'] == 'JohnDoe@email.com')\n",
    "df[criteria]['last'] = 'Doe'  # causes a warning for (fairly) obvious reasons"
   ]
  },
  {
   "cell_type": "code",
   "execution_count": 156,
   "metadata": {},
   "outputs": [
    {
     "data": {
      "text/html": "<div>\n<style scoped>\n    .dataframe tbody tr th:only-of-type {\n        vertical-align: middle;\n    }\n\n    .dataframe tbody tr th {\n        vertical-align: top;\n    }\n\n    .dataframe thead th {\n        text-align: right;\n    }\n</style>\n<table border=\"1\" class=\"dataframe\">\n  <thead>\n    <tr style=\"text-align: right;\">\n      <th></th>\n      <th>first</th>\n      <th>last</th>\n      <th>email</th>\n    </tr>\n  </thead>\n  <tbody>\n    <tr>\n      <th>0</th>\n      <td>Corey</td>\n      <td>Schafer</td>\n      <td>CoreyMSchafer@gmail.com</td>\n    </tr>\n    <tr>\n      <th>1</th>\n      <td>Jane</td>\n      <td>Doe</td>\n      <td>JaneDoe@email.com</td>\n    </tr>\n    <tr>\n      <th>2</th>\n      <td>John</td>\n      <td>Smith</td>\n      <td>JohnDoe@email.com</td>\n    </tr>\n  </tbody>\n</table>\n</div>",
      "text/plain": "   first     last                    email\n0  Corey  Schafer  CoreyMSchafer@gmail.com\n1   Jane      Doe        JaneDoe@email.com\n2   John    Smith        JohnDoe@email.com"
     },
     "execution_count": 156,
     "metadata": {},
     "output_type": "execute_result"
    }
   ],
   "source": [
    "df  # not updated"
   ]
  },
  {
   "cell_type": "code",
   "execution_count": 157,
   "metadata": {},
   "outputs": [
    {
     "data": {
      "text/html": "<div>\n<style scoped>\n    .dataframe tbody tr th:only-of-type {\n        vertical-align: middle;\n    }\n\n    .dataframe tbody tr th {\n        vertical-align: top;\n    }\n\n    .dataframe thead th {\n        text-align: right;\n    }\n</style>\n<table border=\"1\" class=\"dataframe\">\n  <thead>\n    <tr style=\"text-align: right;\">\n      <th></th>\n      <th>first</th>\n      <th>last</th>\n      <th>email</th>\n    </tr>\n  </thead>\n  <tbody>\n    <tr>\n      <th>0</th>\n      <td>Corey</td>\n      <td>Schafer</td>\n      <td>CoreyMSchafer@gmail.com</td>\n    </tr>\n    <tr>\n      <th>1</th>\n      <td>Jane</td>\n      <td>Doe</td>\n      <td>JaneDoe@email.com</td>\n    </tr>\n    <tr>\n      <th>2</th>\n      <td>John</td>\n      <td>Doe</td>\n      <td>JohnDoe@email.com</td>\n    </tr>\n  </tbody>\n</table>\n</div>",
      "text/plain": "   first     last                    email\n0  Corey  Schafer  CoreyMSchafer@gmail.com\n1   Jane      Doe        JaneDoe@email.com\n2   John      Doe        JohnDoe@email.com"
     },
     "execution_count": 157,
     "metadata": {},
     "output_type": "execute_result"
    }
   ],
   "source": [
    "df.loc[criteria, 'last'] = 'Doe'\n",
    "df"
   ]
  },
  {
   "cell_type": "code",
   "execution_count": 158,
   "metadata": {},
   "outputs": [
    {
     "data": {
      "text/html": "<div>\n<style scoped>\n    .dataframe tbody tr th:only-of-type {\n        vertical-align: middle;\n    }\n\n    .dataframe tbody tr th {\n        vertical-align: top;\n    }\n\n    .dataframe thead th {\n        text-align: right;\n    }\n</style>\n<table border=\"1\" class=\"dataframe\">\n  <thead>\n    <tr style=\"text-align: right;\">\n      <th></th>\n      <th>first</th>\n      <th>last</th>\n      <th>email</th>\n    </tr>\n  </thead>\n  <tbody>\n    <tr>\n      <th>0</th>\n      <td>Corey</td>\n      <td>Schafer</td>\n      <td>coreymschafer@gmail.com</td>\n    </tr>\n    <tr>\n      <th>1</th>\n      <td>Jane</td>\n      <td>Doe</td>\n      <td>janedoe@email.com</td>\n    </tr>\n    <tr>\n      <th>2</th>\n      <td>John</td>\n      <td>Doe</td>\n      <td>johndoe@email.com</td>\n    </tr>\n  </tbody>\n</table>\n</div>",
      "text/plain": "   first     last                    email\n0  Corey  Schafer  coreymschafer@gmail.com\n1   Jane      Doe        janedoe@email.com\n2   John      Doe        johndoe@email.com"
     },
     "execution_count": 158,
     "metadata": {},
     "output_type": "execute_result"
    }
   ],
   "source": [
    "df['email'] = df['email'].str.lower()\n",
    "df"
   ]
  },
  {
   "cell_type": "markdown",
   "metadata": {},
   "source": [
    "## apply()"
   ]
  },
  {
   "cell_type": "code",
   "execution_count": 159,
   "metadata": {},
   "outputs": [
    {
     "data": {
      "text/plain": "0    23\n1    17\n2    17\nName: email, dtype: int64"
     },
     "execution_count": 159,
     "metadata": {},
     "output_type": "execute_result"
    }
   ],
   "source": [
    "df['email'].apply(len)"
   ]
  },
  {
   "cell_type": "code",
   "execution_count": 160,
   "metadata": {},
   "outputs": [],
   "source": [
    "def update_email(email):\n",
    "    return email.upper()"
   ]
  },
  {
   "cell_type": "code",
   "execution_count": 166,
   "metadata": {},
   "outputs": [
    {
     "data": {
      "text/html": "<div>\n<style scoped>\n    .dataframe tbody tr th:only-of-type {\n        vertical-align: middle;\n    }\n\n    .dataframe tbody tr th {\n        vertical-align: top;\n    }\n\n    .dataframe thead th {\n        text-align: right;\n    }\n</style>\n<table border=\"1\" class=\"dataframe\">\n  <thead>\n    <tr style=\"text-align: right;\">\n      <th></th>\n      <th>first</th>\n      <th>last</th>\n      <th>email</th>\n    </tr>\n  </thead>\n  <tbody>\n    <tr>\n      <th>0</th>\n      <td>Corey</td>\n      <td>Schafer</td>\n      <td>coreymschafer@gmail.com</td>\n    </tr>\n    <tr>\n      <th>1</th>\n      <td>Jane</td>\n      <td>Doe</td>\n      <td>janedoe@email.com</td>\n    </tr>\n    <tr>\n      <th>2</th>\n      <td>John</td>\n      <td>Doe</td>\n      <td>johndoe@email.com</td>\n    </tr>\n  </tbody>\n</table>\n</div>",
      "text/plain": "   first     last                    email\n0  Corey  Schafer  coreymschafer@gmail.com\n1   Jane      Doe        janedoe@email.com\n2   John      Doe        johndoe@email.com"
     },
     "execution_count": 166,
     "metadata": {},
     "output_type": "execute_result"
    }
   ],
   "source": [
    "df['email'] = df['email'].apply(str.lower)\n",
    "df"
   ]
  },
  {
   "cell_type": "code",
   "execution_count": 171,
   "metadata": {},
   "outputs": [
    {
     "data": {
      "text/plain": "first                      Corey\nlast                         Doe\nemail    coreymschafer@gmail.com\ndtype: object"
     },
     "execution_count": 171,
     "metadata": {},
     "output_type": "execute_result"
    }
   ],
   "source": [
    "df.apply(pd.Series.min)  # on a DataFrame apply runs the function on each column"
   ]
  },
  {
   "cell_type": "code",
   "execution_count": 172,
   "metadata": {},
   "outputs": [
    {
     "data": {
      "text/plain": "0    Corey\n1      Doe\n2      Doe\ndtype: object"
     },
     "execution_count": 172,
     "metadata": {},
     "output_type": "execute_result"
    }
   ],
   "source": [
    "df.apply(pd.Series.min, axis='columns')  # unless you tell it change the axis"
   ]
  },
  {
   "cell_type": "markdown",
   "metadata": {},
   "source": [
    "## applymap"
   ]
  },
  {
   "cell_type": "code",
   "execution_count": 173,
   "metadata": {},
   "outputs": [
    {
     "data": {
      "text/html": "<div>\n<style scoped>\n    .dataframe tbody tr th:only-of-type {\n        vertical-align: middle;\n    }\n\n    .dataframe tbody tr th {\n        vertical-align: top;\n    }\n\n    .dataframe thead th {\n        text-align: right;\n    }\n</style>\n<table border=\"1\" class=\"dataframe\">\n  <thead>\n    <tr style=\"text-align: right;\">\n      <th></th>\n      <th>first</th>\n      <th>last</th>\n      <th>email</th>\n    </tr>\n  </thead>\n  <tbody>\n    <tr>\n      <th>0</th>\n      <td>5</td>\n      <td>7</td>\n      <td>23</td>\n    </tr>\n    <tr>\n      <th>1</th>\n      <td>4</td>\n      <td>3</td>\n      <td>17</td>\n    </tr>\n    <tr>\n      <th>2</th>\n      <td>4</td>\n      <td>3</td>\n      <td>17</td>\n    </tr>\n  </tbody>\n</table>\n</div>",
      "text/plain": "   first  last  email\n0      5     7     23\n1      4     3     17\n2      4     3     17"
     },
     "execution_count": 173,
     "metadata": {},
     "output_type": "execute_result"
    }
   ],
   "source": [
    "df.applymap(len)"
   ]
  },
  {
   "cell_type": "code",
   "execution_count": 174,
   "metadata": {},
   "outputs": [
    {
     "data": {
      "text/html": "<div>\n<style scoped>\n    .dataframe tbody tr th:only-of-type {\n        vertical-align: middle;\n    }\n\n    .dataframe tbody tr th {\n        vertical-align: top;\n    }\n\n    .dataframe thead th {\n        text-align: right;\n    }\n</style>\n<table border=\"1\" class=\"dataframe\">\n  <thead>\n    <tr style=\"text-align: right;\">\n      <th></th>\n      <th>first</th>\n      <th>last</th>\n      <th>email</th>\n    </tr>\n  </thead>\n  <tbody>\n    <tr>\n      <th>0</th>\n      <td>corey</td>\n      <td>schafer</td>\n      <td>coreymschafer@gmail.com</td>\n    </tr>\n    <tr>\n      <th>1</th>\n      <td>jane</td>\n      <td>doe</td>\n      <td>janedoe@email.com</td>\n    </tr>\n    <tr>\n      <th>2</th>\n      <td>john</td>\n      <td>doe</td>\n      <td>johndoe@email.com</td>\n    </tr>\n  </tbody>\n</table>\n</div>",
      "text/plain": "   first     last                    email\n0  corey  schafer  coreymschafer@gmail.com\n1   jane      doe        janedoe@email.com\n2   john      doe        johndoe@email.com"
     },
     "execution_count": 174,
     "metadata": {},
     "output_type": "execute_result"
    }
   ],
   "source": [
    "df.applymap(str.lower)"
   ]
  },
  {
   "cell_type": "markdown",
   "metadata": {},
   "source": [
    "## map"
   ]
  },
  {
   "cell_type": "code",
   "execution_count": 176,
   "metadata": {},
   "outputs": [
    {
     "data": {
      "text/plain": "0    Chris\n1     Mary\n2      NaN\nName: first, dtype: object"
     },
     "execution_count": 176,
     "metadata": {},
     "output_type": "execute_result"
    }
   ],
   "source": [
    "df['first'].map({'Corey': 'Chris', 'Jane': 'Mary'})"
   ]
  },
  {
   "cell_type": "markdown",
   "metadata": {},
   "source": [
    "## replace"
   ]
  },
  {
   "cell_type": "code",
   "execution_count": 181,
   "metadata": {},
   "outputs": [
    {
     "data": {
      "text/html": "<div>\n<style scoped>\n    .dataframe tbody tr th:only-of-type {\n        vertical-align: middle;\n    }\n\n    .dataframe tbody tr th {\n        vertical-align: top;\n    }\n\n    .dataframe thead th {\n        text-align: right;\n    }\n</style>\n<table border=\"1\" class=\"dataframe\">\n  <thead>\n    <tr style=\"text-align: right;\">\n      <th></th>\n      <th>first</th>\n      <th>last</th>\n      <th>email</th>\n    </tr>\n  </thead>\n  <tbody>\n    <tr>\n      <th>0</th>\n      <td>Chris</td>\n      <td>Schafer</td>\n      <td>coreymschafer@gmail.com</td>\n    </tr>\n    <tr>\n      <th>1</th>\n      <td>Mary</td>\n      <td>Doe</td>\n      <td>janedoe@email.com</td>\n    </tr>\n    <tr>\n      <th>2</th>\n      <td>John</td>\n      <td>Doe</td>\n      <td>johndoe@email.com</td>\n    </tr>\n  </tbody>\n</table>\n</div>",
      "text/plain": "   first     last                    email\n0  Chris  Schafer  coreymschafer@gmail.com\n1   Mary      Doe        janedoe@email.com\n2   John      Doe        johndoe@email.com"
     },
     "execution_count": 181,
     "metadata": {},
     "output_type": "execute_result"
    }
   ],
   "source": [
    "df['first'] = df['first'].replace({'Corey': 'Chris', 'Jane': 'Mary'})\n",
    "df"
   ]
  }
 ],
 "metadata": {
  "kernelspec": {
   "display_name": "Python 3",
   "language": "python",
   "name": "python3"
  },
  "language_info": {
   "codemirror_mode": {
    "name": "ipython",
    "version": 3
   },
   "file_extension": ".py",
   "mimetype": "text/x-python",
   "name": "python",
   "nbconvert_exporter": "python",
   "pygments_lexer": "ipython3",
   "version": "3.9.1"
  }
 },
 "nbformat": 4,
 "nbformat_minor": 4
}