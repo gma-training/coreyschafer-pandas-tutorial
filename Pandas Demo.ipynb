{
 "cells": [
  {
   "cell_type": "markdown",
   "metadata": {},
   "source": [
    "# Getting Started"
   ]
  },
  {
   "cell_type": "code",
   "execution_count": 67,
   "metadata": {},
   "outputs": [],
   "source": [
    "import pandas as pd"
   ]
  },
  {
   "cell_type": "code",
   "execution_count": 68,
   "metadata": {},
   "outputs": [],
   "source": [
    "df = pd.read_csv('data/survey_results_public.csv')"
   ]
  },
  {
   "cell_type": "code",
   "execution_count": 69,
   "metadata": {},
   "outputs": [
    {
     "data": {
      "text/plain": "(88883, 85)"
     },
     "execution_count": 69,
     "metadata": {},
     "output_type": "execute_result"
    }
   ],
   "source": [
    "df.shape"
   ]
  },
  {
   "cell_type": "code",
   "execution_count": 70,
   "metadata": {
    "tags": []
   },
   "outputs": [
    {
     "name": "stdout",
     "output_type": "stream",
     "text": [
      "<class 'pandas.core.frame.DataFrame'>\n",
      "RangeIndex: 88883 entries, 0 to 88882\n",
      "Data columns (total 85 columns):\n",
      " #   Column                  Non-Null Count  Dtype  \n",
      "---  ------                  --------------  -----  \n",
      " 0   Respondent              88883 non-null  int64  \n",
      " 1   MainBranch              88331 non-null  object \n",
      " 2   Hobbyist                88883 non-null  object \n",
      " 3   OpenSourcer             88883 non-null  object \n",
      " 4   OpenSource              86842 non-null  object \n",
      " 5   Employment              87181 non-null  object \n",
      " 6   Country                 88751 non-null  object \n",
      " 7   Student                 87014 non-null  object \n",
      " 8   EdLevel                 86390 non-null  object \n",
      " 9   UndergradMajor          75614 non-null  object \n",
      " 10  EduOther                84260 non-null  object \n",
      " 11  OrgSize                 71791 non-null  object \n",
      " 12  DevType                 81335 non-null  object \n",
      " 13  YearsCode               87938 non-null  object \n",
      " 14  Age1stCode              87634 non-null  object \n",
      " 15  YearsCodePro            74331 non-null  object \n",
      " 16  CareerSat               72847 non-null  object \n",
      " 17  JobSat                  70988 non-null  object \n",
      " 18  MgrIdiot                61159 non-null  object \n",
      " 19  MgrMoney                61157 non-null  object \n",
      " 20  MgrWant                 61232 non-null  object \n",
      " 21  JobSeek                 80555 non-null  object \n",
      " 22  LastHireDate            79854 non-null  object \n",
      " 23  LastInt                 67155 non-null  object \n",
      " 24  FizzBuzz                71344 non-null  object \n",
      " 25  JobFactors              79371 non-null  object \n",
      " 26  ResumeUpdate            77877 non-null  object \n",
      " 27  CurrencySymbol          71392 non-null  object \n",
      " 28  CurrencyDesc            71392 non-null  object \n",
      " 29  CompTotal               55945 non-null  float64\n",
      " 30  CompFreq                63268 non-null  object \n",
      " 31  ConvertedComp           55823 non-null  float64\n",
      " 32  WorkWeekHrs             64503 non-null  float64\n",
      " 33  WorkPlan                68914 non-null  object \n",
      " 34  WorkChallenge           68141 non-null  object \n",
      " 35  WorkRemote              70284 non-null  object \n",
      " 36  WorkLoc                 70055 non-null  object \n",
      " 37  ImpSyn                  71779 non-null  object \n",
      " 38  CodeRev                 70390 non-null  object \n",
      " 39  CodeRevHrs              49790 non-null  float64\n",
      " 40  UnitTests               62668 non-null  object \n",
      " 41  PurchaseHow             61108 non-null  object \n",
      " 42  PurchaseWhat            62029 non-null  object \n",
      " 43  LanguageWorkedWith      87569 non-null  object \n",
      " 44  LanguageDesireNextYear  84088 non-null  object \n",
      " 45  DatabaseWorkedWith      76026 non-null  object \n",
      " 46  DatabaseDesireNextYear  69147 non-null  object \n",
      " 47  PlatformWorkedWith      80714 non-null  object \n",
      " 48  PlatformDesireNextYear  77443 non-null  object \n",
      " 49  WebFrameWorkedWith      65022 non-null  object \n",
      " 50  WebFrameDesireNextYear  62944 non-null  object \n",
      " 51  MiscTechWorkedWith      59586 non-null  object \n",
      " 52  MiscTechDesireNextYear  64511 non-null  object \n",
      " 53  DevEnviron              87317 non-null  object \n",
      " 54  OpSys                   87851 non-null  object \n",
      " 55  Containers              85366 non-null  object \n",
      " 56  BlockchainOrg           48175 non-null  object \n",
      " 57  BlockchainIs            60165 non-null  object \n",
      " 58  BetterLife              86269 non-null  object \n",
      " 59  ITperson                87141 non-null  object \n",
      " 60  OffOn                   86663 non-null  object \n",
      " 61  SocialMedia             84437 non-null  object \n",
      " 62  Extraversion            87305 non-null  object \n",
      " 63  ScreenName              80486 non-null  object \n",
      " 64  SOVisit1st              83877 non-null  object \n",
      " 65  SOVisitFreq             88263 non-null  object \n",
      " 66  SOVisitTo               88086 non-null  object \n",
      " 67  SOFindAnswer            87816 non-null  object \n",
      " 68  SOTimeSaved             86344 non-null  object \n",
      " 69  SOHowMuchTime           68378 non-null  object \n",
      " 70  SOAccount               87828 non-null  object \n",
      " 71  SOPartFreq              74692 non-null  object \n",
      " 72  SOJobs                  88066 non-null  object \n",
      " 73  EntTeams                87841 non-null  object \n",
      " 74  SOComm                  88131 non-null  object \n",
      " 75  WelcomeChange           85855 non-null  object \n",
      " 76  SONewContent            69560 non-null  object \n",
      " 77  Age                     79210 non-null  float64\n",
      " 78  Gender                  85406 non-null  object \n",
      " 79  Trans                   83607 non-null  object \n",
      " 80  Sexuality               76147 non-null  object \n",
      " 81  Ethnicity               76668 non-null  object \n",
      " 82  Dependents              83059 non-null  object \n",
      " 83  SurveyLength            86984 non-null  object \n",
      " 84  SurveyEase              87081 non-null  object \n",
      "dtypes: float64(5), int64(1), object(79)\n",
      "memory usage: 57.6+ MB\n"
     ]
    }
   ],
   "source": [
    "df.info()"
   ]
  },
  {
   "cell_type": "code",
   "execution_count": 71,
   "metadata": {},
   "outputs": [],
   "source": [
    "# pd.set_option('display.max_columns', df.shape[1])  # configure output to show all columns\n",
    "pd.set_option('display.max_columns', 5)"
   ]
  },
  {
   "cell_type": "markdown",
   "metadata": {},
   "source": [
    "Now we can load in the schema CSV file too, and find out what each of the columns in the survey results is all about."
   ]
  },
  {
   "cell_type": "code",
   "execution_count": 72,
   "metadata": {},
   "outputs": [],
   "source": [
    "schema = pd.read_csv('data/survey_results_schema.csv')\n",
    "# pd.set_option('display.max_rows', df.shape[0])   # will allow us to see all 85 rows\n",
    "pd.set_option('display.max_rows', 8)"
   ]
  },
  {
   "cell_type": "markdown",
   "metadata": {},
   "source": [
    "Note we can't usually see all 85 rows in the schema, but we've tweaked the `display.max_rows` setting above too.\n",
    "\n",
    "You can use `.head()` and `.tail()` to limit the number of rows if you don't want that many rows in your output."
   ]
  },
  {
   "cell_type": "code",
   "execution_count": 73,
   "metadata": {},
   "outputs": [
    {
     "data": {
      "text/html": "<div>\n<style scoped>\n    .dataframe tbody tr th:only-of-type {\n        vertical-align: middle;\n    }\n\n    .dataframe tbody tr th {\n        vertical-align: top;\n    }\n\n    .dataframe thead th {\n        text-align: right;\n    }\n</style>\n<table border=\"1\" class=\"dataframe\">\n  <thead>\n    <tr style=\"text-align: right;\">\n      <th></th>\n      <th>Column</th>\n      <th>QuestionText</th>\n    </tr>\n  </thead>\n  <tbody>\n    <tr>\n      <th>0</th>\n      <td>Respondent</td>\n      <td>Randomized respondent ID number (not in order ...</td>\n    </tr>\n    <tr>\n      <th>1</th>\n      <td>MainBranch</td>\n      <td>Which of the following options best describes ...</td>\n    </tr>\n    <tr>\n      <th>2</th>\n      <td>Hobbyist</td>\n      <td>Do you code as a hobby?</td>\n    </tr>\n  </tbody>\n</table>\n</div>",
      "text/plain": "       Column                                       QuestionText\n0  Respondent  Randomized respondent ID number (not in order ...\n1  MainBranch  Which of the following options best describes ...\n2    Hobbyist                            Do you code as a hobby?"
     },
     "execution_count": 73,
     "metadata": {},
     "output_type": "execute_result"
    }
   ],
   "source": [
    "schema.head(3)"
   ]
  },
  {
   "cell_type": "markdown",
   "metadata": {},
   "source": [
    "# DataFrame and Series Basics\n",
    "\n",
    "You can think of how you're accessing a DataFrame with square brackets as being a bit like accessing a dictionary of lists. The keys are like column labels and the lists are like the Series that define the rows."
   ]
  },
  {
   "cell_type": "code",
   "execution_count": 74,
   "metadata": {},
   "outputs": [
    {
     "data": {
      "text/plain": "['Corey', 'Jane']"
     },
     "execution_count": 74,
     "metadata": {},
     "output_type": "execute_result"
    }
   ],
   "source": [
    "people = {\n",
    "    \"first\": [\"Corey\", \"Jane\"],\n",
    "    \"last\": [\"Schafer\", \"Doe\"]\n",
    "}\n",
    "\n",
    "people[\"first\"]"
   ]
  },
  {
   "cell_type": "code",
   "execution_count": 75,
   "metadata": {},
   "outputs": [
    {
     "data": {
      "text/html": "<div>\n<style scoped>\n    .dataframe tbody tr th:only-of-type {\n        vertical-align: middle;\n    }\n\n    .dataframe tbody tr th {\n        vertical-align: top;\n    }\n\n    .dataframe thead th {\n        text-align: right;\n    }\n</style>\n<table border=\"1\" class=\"dataframe\">\n  <thead>\n    <tr style=\"text-align: right;\">\n      <th></th>\n      <th>first</th>\n      <th>last</th>\n    </tr>\n  </thead>\n  <tbody>\n    <tr>\n      <th>0</th>\n      <td>Corey</td>\n      <td>Schafer</td>\n    </tr>\n    <tr>\n      <th>1</th>\n      <td>Jane</td>\n      <td>Doe</td>\n    </tr>\n  </tbody>\n</table>\n</div>",
      "text/plain": "   first     last\n0  Corey  Schafer\n1   Jane      Doe"
     },
     "execution_count": 75,
     "metadata": {},
     "output_type": "execute_result"
    }
   ],
   "source": [
    "pd.DataFrame(people)"
   ]
  },
  {
   "cell_type": "markdown",
   "metadata": {},
   "source": [
    "See the `Snippets.ipynb` notebook for code showing how to access rows and columns.\n",
    "\n",
    "Let's look at what we can do with the main data set."
   ]
  },
  {
   "cell_type": "code",
   "execution_count": 76,
   "metadata": {},
   "outputs": [
    {
     "data": {
      "text/plain": "0        Yes\n1         No\n2        Yes\n3         No\n        ... \n88879     No\n88880     No\n88881     No\n88882    Yes\nName: Hobbyist, Length: 88883, dtype: object"
     },
     "execution_count": 76,
     "metadata": {},
     "output_type": "execute_result"
    }
   ],
   "source": [
    "df['Hobbyist']"
   ]
  },
  {
   "cell_type": "code",
   "execution_count": 77,
   "metadata": {},
   "outputs": [
    {
     "data": {
      "text/plain": "'Yes'"
     },
     "execution_count": 77,
     "metadata": {},
     "output_type": "execute_result"
    }
   ],
   "source": [
    "df.loc[0, 'Hobbyist']  # first row, Hobbyist column"
   ]
  },
  {
   "cell_type": "code",
   "execution_count": 78,
   "metadata": {},
   "outputs": [
    {
     "data": {
      "text/html": "<div>\n<style scoped>\n    .dataframe tbody tr th:only-of-type {\n        vertical-align: middle;\n    }\n\n    .dataframe tbody tr th {\n        vertical-align: top;\n    }\n\n    .dataframe thead th {\n        text-align: right;\n    }\n</style>\n<table border=\"1\" class=\"dataframe\">\n  <thead>\n    <tr style=\"text-align: right;\">\n      <th></th>\n      <th>Hobbyist</th>\n      <th>OpenSourcer</th>\n      <th>OpenSource</th>\n      <th>Employment</th>\n    </tr>\n  </thead>\n  <tbody>\n    <tr>\n      <th>0</th>\n      <td>Yes</td>\n      <td>Never</td>\n      <td>The quality of OSS and closed source software ...</td>\n      <td>Not employed, and not looking for work</td>\n    </tr>\n    <tr>\n      <th>1</th>\n      <td>No</td>\n      <td>Less than once per year</td>\n      <td>The quality of OSS and closed source software ...</td>\n      <td>Not employed, but looking for work</td>\n    </tr>\n    <tr>\n      <th>2</th>\n      <td>Yes</td>\n      <td>Never</td>\n      <td>The quality of OSS and closed source software ...</td>\n      <td>Employed full-time</td>\n    </tr>\n  </tbody>\n</table>\n</div>",
      "text/plain": "  Hobbyist              OpenSourcer  \\\n0      Yes                    Never   \n1       No  Less than once per year   \n2      Yes                    Never   \n\n                                          OpenSource  \\\n0  The quality of OSS and closed source software ...   \n1  The quality of OSS and closed source software ...   \n2  The quality of OSS and closed source software ...   \n\n                               Employment  \n0  Not employed, and not looking for work  \n1      Not employed, but looking for work  \n2                      Employed full-time  "
     },
     "execution_count": 78,
     "metadata": {},
     "output_type": "execute_result"
    }
   ],
   "source": [
    "df.loc\n",
    "df.loc[0:2, 'Hobbyist':'Employment']"
   ]
  },
  {
   "cell_type": "markdown",
   "metadata": {},
   "source": [
    "# Indexes: set, reset and using"
   ]
  },
  {
   "cell_type": "code",
   "execution_count": 79,
   "metadata": {},
   "outputs": [],
   "source": [
    "df.set_index('Respondent', inplace=True)  # could also use index_col in read_csv"
   ]
  },
  {
   "cell_type": "markdown",
   "metadata": {},
   "source": [
    "How do we find the question for a column, given that we have the schema frame?"
   ]
  },
  {
   "cell_type": "code",
   "execution_count": 80,
   "metadata": {},
   "outputs": [
    {
     "data": {
      "text/html": "<div>\n<style scoped>\n    .dataframe tbody tr th:only-of-type {\n        vertical-align: middle;\n    }\n\n    .dataframe tbody tr th {\n        vertical-align: top;\n    }\n\n    .dataframe thead th {\n        text-align: right;\n    }\n</style>\n<table border=\"1\" class=\"dataframe\">\n  <thead>\n    <tr style=\"text-align: right;\">\n      <th></th>\n      <th>Column</th>\n      <th>QuestionText</th>\n    </tr>\n  </thead>\n  <tbody>\n    <tr>\n      <th>0</th>\n      <td>Respondent</td>\n      <td>Randomized respondent ID number (not in order ...</td>\n    </tr>\n    <tr>\n      <th>1</th>\n      <td>MainBranch</td>\n      <td>Which of the following options best describes ...</td>\n    </tr>\n    <tr>\n      <th>2</th>\n      <td>Hobbyist</td>\n      <td>Do you code as a hobby?</td>\n    </tr>\n  </tbody>\n</table>\n</div>",
      "text/plain": "       Column                                       QuestionText\n0  Respondent  Randomized respondent ID number (not in order ...\n1  MainBranch  Which of the following options best describes ...\n2    Hobbyist                            Do you code as a hobby?"
     },
     "execution_count": 80,
     "metadata": {},
     "output_type": "execute_result"
    }
   ],
   "source": [
    "schema.head(3)"
   ]
  },
  {
   "cell_type": "code",
   "execution_count": 81,
   "metadata": {},
   "outputs": [],
   "source": [
    "schema.set_index('Column', inplace=True)"
   ]
  },
  {
   "cell_type": "code",
   "execution_count": 82,
   "metadata": {},
   "outputs": [
    {
     "data": {
      "text/plain": "QuestionText    How confident are you that your manager knows ...\nName: MgrIdiot, dtype: object"
     },
     "execution_count": 82,
     "metadata": {},
     "output_type": "execute_result"
    }
   ],
   "source": [
    "schema.loc['MgrIdiot']"
   ]
  },
  {
   "cell_type": "code",
   "execution_count": 83,
   "metadata": {},
   "outputs": [
    {
     "data": {
      "text/html": "<div>\n<style scoped>\n    .dataframe tbody tr th:only-of-type {\n        vertical-align: middle;\n    }\n\n    .dataframe tbody tr th {\n        vertical-align: top;\n    }\n\n    .dataframe thead th {\n        text-align: right;\n    }\n</style>\n<table border=\"1\" class=\"dataframe\">\n  <thead>\n    <tr style=\"text-align: right;\">\n      <th></th>\n      <th>QuestionText</th>\n    </tr>\n    <tr>\n      <th>Column</th>\n      <th></th>\n    </tr>\n  </thead>\n  <tbody>\n    <tr>\n      <th>Age</th>\n      <td>What is your age (in years)? If you prefer not...</td>\n    </tr>\n    <tr>\n      <th>Age1stCode</th>\n      <td>At what age did you write your first line of c...</td>\n    </tr>\n    <tr>\n      <th>BetterLife</th>\n      <td>Do you think people born today will have a bet...</td>\n    </tr>\n  </tbody>\n</table>\n</div>",
      "text/plain": "                                                 QuestionText\nColumn                                                       \nAge         What is your age (in years)? If you prefer not...\nAge1stCode  At what age did you write your first line of c...\nBetterLife  Do you think people born today will have a bet..."
     },
     "execution_count": 83,
     "metadata": {},
     "output_type": "execute_result"
    }
   ],
   "source": [
    "schema.sort_index().head(3)"
   ]
  },
  {
   "cell_type": "markdown",
   "metadata": {},
   "source": [
    "# Filtering\n",
    "\n",
    "Who makes loads of money writing Python, in one of the countries we're most interested in?"
   ]
  },
  {
   "cell_type": "code",
   "execution_count": 84,
   "metadata": {},
   "outputs": [],
   "source": [
    "countries = ['United States', 'India', 'United Kingdom', 'Germany', 'Canada']\n",
    "in_country = df['Country'].isin(countries)"
   ]
  },
  {
   "cell_type": "code",
   "execution_count": 85,
   "metadata": {},
   "outputs": [],
   "source": [
    "does_python = df['LanguageWorkedWith'].str.contains('Python', na=False)"
   ]
  },
  {
   "cell_type": "code",
   "execution_count": 86,
   "metadata": {},
   "outputs": [],
   "source": [
    "high_salary = (df['ConvertedComp'] > 70000)"
   ]
  },
  {
   "cell_type": "code",
   "execution_count": 87,
   "metadata": {},
   "outputs": [
    {
     "data": {
      "text/html": "<div>\n<style scoped>\n    .dataframe tbody tr th:only-of-type {\n        vertical-align: middle;\n    }\n\n    .dataframe tbody tr th {\n        vertical-align: top;\n    }\n\n    .dataframe thead th {\n        text-align: right;\n    }\n</style>\n<table border=\"1\" class=\"dataframe\">\n  <thead>\n    <tr style=\"text-align: right;\">\n      <th></th>\n      <th>MainBranch</th>\n      <th>Hobbyist</th>\n      <th>...</th>\n      <th>SurveyLength</th>\n      <th>SurveyEase</th>\n    </tr>\n    <tr>\n      <th>Respondent</th>\n      <th></th>\n      <th></th>\n      <th></th>\n      <th></th>\n      <th></th>\n    </tr>\n  </thead>\n  <tbody>\n    <tr>\n      <th>22</th>\n      <td>I am a developer by profession</td>\n      <td>Yes</td>\n      <td>...</td>\n      <td>Appropriate in length</td>\n      <td>Easy</td>\n    </tr>\n    <tr>\n      <th>26</th>\n      <td>I am a developer by profession</td>\n      <td>Yes</td>\n      <td>...</td>\n      <td>Appropriate in length</td>\n      <td>Easy</td>\n    </tr>\n    <tr>\n      <th>32</th>\n      <td>I am a developer by profession</td>\n      <td>No</td>\n      <td>...</td>\n      <td>Appropriate in length</td>\n      <td>Neither easy nor difficult</td>\n    </tr>\n  </tbody>\n</table>\n<p>3 rows × 84 columns</p>\n</div>",
      "text/plain": "                                MainBranch Hobbyist  ...  \\\nRespondent                                           ...   \n22          I am a developer by profession      Yes  ...   \n26          I am a developer by profession      Yes  ...   \n32          I am a developer by profession       No  ...   \n\n                     SurveyLength                  SurveyEase  \nRespondent                                                     \n22          Appropriate in length                        Easy  \n26          Appropriate in length                        Easy  \n32          Appropriate in length  Neither easy nor difficult  \n\n[3 rows x 84 columns]"
     },
     "execution_count": 87,
     "metadata": {},
     "output_type": "execute_result"
    }
   ],
   "source": [
    "df[high_salary & does_python & in_country].head(3)"
   ]
  },
  {
   "cell_type": "code",
   "execution_count": 88,
   "metadata": {},
   "outputs": [
    {
     "data": {
      "text/html": "<div>\n<style scoped>\n    .dataframe tbody tr th:only-of-type {\n        vertical-align: middle;\n    }\n\n    .dataframe tbody tr th {\n        vertical-align: top;\n    }\n\n    .dataframe thead th {\n        text-align: right;\n    }\n</style>\n<table border=\"1\" class=\"dataframe\">\n  <thead>\n    <tr style=\"text-align: right;\">\n      <th></th>\n      <th>Country</th>\n      <th>LanguageWorkedWith</th>\n      <th>ConvertedComp</th>\n    </tr>\n    <tr>\n      <th>Respondent</th>\n      <th></th>\n      <th></th>\n      <th></th>\n    </tr>\n  </thead>\n  <tbody>\n    <tr>\n      <th>6</th>\n      <td>Canada</td>\n      <td>Java;R;SQL</td>\n      <td>366420.0</td>\n    </tr>\n    <tr>\n      <th>9</th>\n      <td>New Zealand</td>\n      <td>Bash/Shell/PowerShell;C#;HTML/CSS;JavaScript;P...</td>\n      <td>95179.0</td>\n    </tr>\n    <tr>\n      <th>13</th>\n      <td>United States</td>\n      <td>Bash/Shell/PowerShell;HTML/CSS;JavaScript;PHP;...</td>\n      <td>90000.0</td>\n    </tr>\n    <tr>\n      <th>16</th>\n      <td>United Kingdom</td>\n      <td>Bash/Shell/PowerShell;C#;HTML/CSS;JavaScript;T...</td>\n      <td>455352.0</td>\n    </tr>\n    <tr>\n      <th>...</th>\n      <td>...</td>\n      <td>...</td>\n      <td>...</td>\n    </tr>\n    <tr>\n      <th>88877</th>\n      <td>United States</td>\n      <td>Bash/Shell/PowerShell;C;Clojure;HTML/CSS;Java;...</td>\n      <td>2000000.0</td>\n    </tr>\n    <tr>\n      <th>88878</th>\n      <td>United States</td>\n      <td>HTML/CSS;JavaScript;Scala;TypeScript</td>\n      <td>130000.0</td>\n    </tr>\n    <tr>\n      <th>88879</th>\n      <td>Finland</td>\n      <td>Bash/Shell/PowerShell;C++;Python</td>\n      <td>82488.0</td>\n    </tr>\n    <tr>\n      <th>88882</th>\n      <td>Netherlands</td>\n      <td>C#;HTML/CSS;Java;JavaScript;PHP;Python</td>\n      <td>588012.0</td>\n    </tr>\n  </tbody>\n</table>\n<p>22289 rows × 3 columns</p>\n</div>",
      "text/plain": "                   Country                                 LanguageWorkedWith  \\\nRespondent                                                                      \n6                   Canada                                         Java;R;SQL   \n9              New Zealand  Bash/Shell/PowerShell;C#;HTML/CSS;JavaScript;P...   \n13           United States  Bash/Shell/PowerShell;HTML/CSS;JavaScript;PHP;...   \n16          United Kingdom  Bash/Shell/PowerShell;C#;HTML/CSS;JavaScript;T...   \n...                    ...                                                ...   \n88877        United States  Bash/Shell/PowerShell;C;Clojure;HTML/CSS;Java;...   \n88878        United States               HTML/CSS;JavaScript;Scala;TypeScript   \n88879              Finland                   Bash/Shell/PowerShell;C++;Python   \n88882          Netherlands             C#;HTML/CSS;Java;JavaScript;PHP;Python   \n\n            ConvertedComp  \nRespondent                 \n6                366420.0  \n9                 95179.0  \n13                90000.0  \n16               455352.0  \n...                   ...  \n88877           2000000.0  \n88878            130000.0  \n88879             82488.0  \n88882            588012.0  \n\n[22289 rows x 3 columns]"
     },
     "execution_count": 88,
     "metadata": {},
     "output_type": "execute_result"
    }
   ],
   "source": [
    "df.loc[high_salary, ['Country', 'LanguageWorkedWith', 'ConvertedComp']]"
   ]
  },
  {
   "cell_type": "markdown",
   "metadata": {},
   "source": [
    "# Sorting data"
   ]
  },
  {
   "cell_type": "markdown",
   "metadata": {},
   "source": [
    "Imagine we want to look at survey results by country and salary."
   ]
  },
  {
   "cell_type": "code",
   "execution_count": 91,
   "metadata": {},
   "outputs": [],
   "source": [
    "df.sort_values(by='Country', inplace=True)"
   ]
  },
  {
   "cell_type": "code",
   "execution_count": 95,
   "metadata": {},
   "outputs": [
    {
     "data": {
      "text/html": "<div>\n<style scoped>\n    .dataframe tbody tr th:only-of-type {\n        vertical-align: middle;\n    }\n\n    .dataframe tbody tr th {\n        vertical-align: top;\n    }\n\n    .dataframe thead th {\n        text-align: right;\n    }\n</style>\n<table border=\"1\" class=\"dataframe\">\n  <thead>\n    <tr style=\"text-align: right;\">\n      <th></th>\n      <th>Country</th>\n      <th>ConvertedComp</th>\n    </tr>\n    <tr>\n      <th>Respondent</th>\n      <th></th>\n      <th></th>\n    </tr>\n  </thead>\n  <tbody>\n    <tr>\n      <th>39258</th>\n      <td>Afghanistan</td>\n      <td>19152.0</td>\n    </tr>\n    <tr>\n      <th>87091</th>\n      <td>Afghanistan</td>\n      <td>NaN</td>\n    </tr>\n    <tr>\n      <th>58760</th>\n      <td>Afghanistan</td>\n      <td>NaN</td>\n    </tr>\n    <tr>\n      <th>74386</th>\n      <td>Afghanistan</td>\n      <td>NaN</td>\n    </tr>\n    <tr>\n      <th>29045</th>\n      <td>Afghanistan</td>\n      <td>NaN</td>\n    </tr>\n  </tbody>\n</table>\n</div>",
      "text/plain": "                Country  ConvertedComp\nRespondent                            \n39258       Afghanistan        19152.0\n87091       Afghanistan            NaN\n58760       Afghanistan            NaN\n74386       Afghanistan            NaN\n29045       Afghanistan            NaN"
     },
     "execution_count": 95,
     "metadata": {},
     "output_type": "execute_result"
    }
   ],
   "source": [
    "df[['Country', 'ConvertedComp']].head(5)"
   ]
  },
  {
   "cell_type": "code",
   "execution_count": 99,
   "metadata": {},
   "outputs": [],
   "source": [
    "df.sort_values(\n",
    "    by=['Country', 'ConvertedComp'],\n",
    "    ascending=[True, False],\n",
    "    inplace=True\n",
    ")"
   ]
  },
  {
   "cell_type": "code",
   "execution_count": 100,
   "metadata": {},
   "outputs": [
    {
     "data": {
      "text/html": "<div>\n<style scoped>\n    .dataframe tbody tr th:only-of-type {\n        vertical-align: middle;\n    }\n\n    .dataframe tbody tr th {\n        vertical-align: top;\n    }\n\n    .dataframe thead th {\n        text-align: right;\n    }\n</style>\n<table border=\"1\" class=\"dataframe\">\n  <thead>\n    <tr style=\"text-align: right;\">\n      <th></th>\n      <th>Country</th>\n      <th>ConvertedComp</th>\n    </tr>\n    <tr>\n      <th>Respondent</th>\n      <th></th>\n      <th></th>\n    </tr>\n  </thead>\n  <tbody>\n    <tr>\n      <th>63129</th>\n      <td>Afghanistan</td>\n      <td>1000000.0</td>\n    </tr>\n    <tr>\n      <th>50499</th>\n      <td>Afghanistan</td>\n      <td>153216.0</td>\n    </tr>\n    <tr>\n      <th>39258</th>\n      <td>Afghanistan</td>\n      <td>19152.0</td>\n    </tr>\n    <tr>\n      <th>58450</th>\n      <td>Afghanistan</td>\n      <td>17556.0</td>\n    </tr>\n    <tr>\n      <th>7085</th>\n      <td>Afghanistan</td>\n      <td>14364.0</td>\n    </tr>\n  </tbody>\n</table>\n</div>",
      "text/plain": "                Country  ConvertedComp\nRespondent                            \n63129       Afghanistan      1000000.0\n50499       Afghanistan       153216.0\n39258       Afghanistan        19152.0\n58450       Afghanistan        17556.0\n7085        Afghanistan        14364.0"
     },
     "execution_count": 100,
     "metadata": {},
     "output_type": "execute_result"
    }
   ],
   "source": [
    "df[['Country', 'ConvertedComp']].head(5)"
   ]
  },
  {
   "cell_type": "markdown",
   "metadata": {},
   "source": [
    "Who are the top 10 most highly paid respondents in Afghanistan, and what do they do?"
   ]
  },
  {
   "cell_type": "code",
   "execution_count": 126,
   "metadata": {},
   "outputs": [
    {
     "data": {
      "text/html": "<div>\n<style scoped>\n    .dataframe tbody tr th:only-of-type {\n        vertical-align: middle;\n    }\n\n    .dataframe tbody tr th {\n        vertical-align: top;\n    }\n\n    .dataframe thead th {\n        text-align: right;\n    }\n</style>\n<table border=\"1\" class=\"dataframe\">\n  <thead>\n    <tr style=\"text-align: right;\">\n      <th></th>\n      <th>ConvertedComp</th>\n      <th>Employment</th>\n      <th>EdLevel</th>\n      <th>Student</th>\n    </tr>\n    <tr>\n      <th>Respondent</th>\n      <th></th>\n      <th></th>\n      <th></th>\n      <th></th>\n    </tr>\n  </thead>\n  <tbody>\n    <tr>\n      <th>63129</th>\n      <td>1000000.0</td>\n      <td>Employed full-time</td>\n      <td>I never completed any formal education</td>\n      <td>Yes, full-time</td>\n    </tr>\n    <tr>\n      <th>50499</th>\n      <td>153216.0</td>\n      <td>Employed full-time</td>\n      <td>Bachelor’s degree (BA, BS, B.Eng., etc.)</td>\n      <td>No</td>\n    </tr>\n    <tr>\n      <th>39258</th>\n      <td>19152.0</td>\n      <td>Employed full-time</td>\n      <td>Bachelor’s degree (BA, BS, B.Eng., etc.)</td>\n      <td>No</td>\n    </tr>\n    <tr>\n      <th>58450</th>\n      <td>17556.0</td>\n      <td>Employed full-time</td>\n      <td>Bachelor’s degree (BA, BS, B.Eng., etc.)</td>\n      <td>No</td>\n    </tr>\n    <tr>\n      <th>...</th>\n      <td>...</td>\n      <td>...</td>\n      <td>...</td>\n      <td>...</td>\n    </tr>\n    <tr>\n      <th>48436</th>\n      <td>4464.0</td>\n      <td>Employed full-time</td>\n      <td>Secondary school (e.g. American high school, G...</td>\n      <td>Yes, part-time</td>\n    </tr>\n    <tr>\n      <th>10746</th>\n      <td>3996.0</td>\n      <td>Employed full-time</td>\n      <td>Bachelor’s degree (BA, BS, B.Eng., etc.)</td>\n      <td>No</td>\n    </tr>\n    <tr>\n      <th>8149</th>\n      <td>1596.0</td>\n      <td>Employed full-time</td>\n      <td>Bachelor’s degree (BA, BS, B.Eng., etc.)</td>\n      <td>Yes, full-time</td>\n    </tr>\n    <tr>\n      <th>29736</th>\n      <td>1116.0</td>\n      <td>Employed full-time</td>\n      <td>Primary/elementary school</td>\n      <td>Yes, part-time</td>\n    </tr>\n  </tbody>\n</table>\n<p>10 rows × 4 columns</p>\n</div>",
      "text/plain": "            ConvertedComp          Employment  \\\nRespondent                                      \n63129           1000000.0  Employed full-time   \n50499            153216.0  Employed full-time   \n39258             19152.0  Employed full-time   \n58450             17556.0  Employed full-time   \n...                   ...                 ...   \n48436              4464.0  Employed full-time   \n10746              3996.0  Employed full-time   \n8149               1596.0  Employed full-time   \n29736              1116.0  Employed full-time   \n\n                                                      EdLevel         Student  \nRespondent                                                                     \n63129                  I never completed any formal education  Yes, full-time  \n50499                Bachelor’s degree (BA, BS, B.Eng., etc.)              No  \n39258                Bachelor’s degree (BA, BS, B.Eng., etc.)              No  \n58450                Bachelor’s degree (BA, BS, B.Eng., etc.)              No  \n...                                                       ...             ...  \n48436       Secondary school (e.g. American high school, G...  Yes, part-time  \n10746                Bachelor’s degree (BA, BS, B.Eng., etc.)              No  \n8149                 Bachelor’s degree (BA, BS, B.Eng., etc.)  Yes, full-time  \n29736                               Primary/elementary school  Yes, part-time  \n\n[10 rows x 4 columns]"
     },
     "execution_count": 126,
     "metadata": {},
     "output_type": "execute_result"
    }
   ],
   "source": [
    "in_afghanistan = df['Country'] == 'Afghanistan'\n",
    "df[in_afghanistan].nlargest(10, 'ConvertedComp')[['ConvertedComp', 'Employment', 'EdLevel', 'Student']]"
   ]
  }
 ],
 "metadata": {
  "kernelspec": {
   "display_name": "Python 3.9.1 64-bit ('.venv')",
   "name": "python391jvsc74a57bd0ed86c040db930b78fbc0c08690ae26009886b8a2aa20451cbe44bd98eecf8da8"
  },
  "language_info": {
   "codemirror_mode": {
    "name": "ipython",
    "version": 3
   },
   "file_extension": ".py",
   "mimetype": "text/x-python",
   "name": "python",
   "nbconvert_exporter": "python",
   "pygments_lexer": "ipython3",
   "version": "3.9.1"
  }
 },
 "nbformat": 4,
 "nbformat_minor": 5
}