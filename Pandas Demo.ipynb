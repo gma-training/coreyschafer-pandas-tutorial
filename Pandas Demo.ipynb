{
 "cells": [
  {
   "cell_type": "raw",
   "metadata": {},
   "source": []
  },
  {
   "cell_type": "markdown",
   "metadata": {},
   "source": [
    "# Getting Started"
   ]
  },
  {
   "cell_type": "code",
   "execution_count": 67,
   "metadata": {},
   "outputs": [],
   "source": [
    "import pandas as pd"
   ]
  },
  {
   "cell_type": "code",
   "execution_count": 68,
   "metadata": {},
   "outputs": [],
   "source": [
    "df = pd.read_csv('data/survey_results_public.csv')"
   ]
  },
  {
   "cell_type": "code",
   "execution_count": 69,
   "metadata": {},
   "outputs": [
    {
     "data": {
      "text/plain": "(88883, 85)"
     },
     "execution_count": 69,
     "metadata": {},
     "output_type": "execute_result"
    }
   ],
   "source": [
    "df.shape"
   ]
  },
  {
   "cell_type": "code",
   "execution_count": 70,
   "metadata": {
    "tags": []
   },
   "outputs": [
    {
     "name": "stdout",
     "output_type": "stream",
     "text": [
      "<class 'pandas.core.frame.DataFrame'>\n",
      "RangeIndex: 88883 entries, 0 to 88882\n",
      "Data columns (total 85 columns):\n",
      " #   Column                  Non-Null Count  Dtype  \n",
      "---  ------                  --------------  -----  \n",
      " 0   Respondent              88883 non-null  int64  \n",
      " 1   MainBranch              88331 non-null  object \n",
      " 2   Hobbyist                88883 non-null  object \n",
      " 3   OpenSourcer             88883 non-null  object \n",
      " 4   OpenSource              86842 non-null  object \n",
      " 5   Employment              87181 non-null  object \n",
      " 6   Country                 88751 non-null  object \n",
      " 7   Student                 87014 non-null  object \n",
      " 8   EdLevel                 86390 non-null  object \n",
      " 9   UndergradMajor          75614 non-null  object \n",
      " 10  EduOther                84260 non-null  object \n",
      " 11  OrgSize                 71791 non-null  object \n",
      " 12  DevType                 81335 non-null  object \n",
      " 13  YearsCode               87938 non-null  object \n",
      " 14  Age1stCode              87634 non-null  object \n",
      " 15  YearsCodePro            74331 non-null  object \n",
      " 16  CareerSat               72847 non-null  object \n",
      " 17  JobSat                  70988 non-null  object \n",
      " 18  MgrIdiot                61159 non-null  object \n",
      " 19  MgrMoney                61157 non-null  object \n",
      " 20  MgrWant                 61232 non-null  object \n",
      " 21  JobSeek                 80555 non-null  object \n",
      " 22  LastHireDate            79854 non-null  object \n",
      " 23  LastInt                 67155 non-null  object \n",
      " 24  FizzBuzz                71344 non-null  object \n",
      " 25  JobFactors              79371 non-null  object \n",
      " 26  ResumeUpdate            77877 non-null  object \n",
      " 27  CurrencySymbol          71392 non-null  object \n",
      " 28  CurrencyDesc            71392 non-null  object \n",
      " 29  CompTotal               55945 non-null  float64\n",
      " 30  CompFreq                63268 non-null  object \n",
      " 31  ConvertedComp           55823 non-null  float64\n",
      " 32  WorkWeekHrs             64503 non-null  float64\n",
      " 33  WorkPlan                68914 non-null  object \n",
      " 34  WorkChallenge           68141 non-null  object \n",
      " 35  WorkRemote              70284 non-null  object \n",
      " 36  WorkLoc                 70055 non-null  object \n",
      " 37  ImpSyn                  71779 non-null  object \n",
      " 38  CodeRev                 70390 non-null  object \n",
      " 39  CodeRevHrs              49790 non-null  float64\n",
      " 40  UnitTests               62668 non-null  object \n",
      " 41  PurchaseHow             61108 non-null  object \n",
      " 42  PurchaseWhat            62029 non-null  object \n",
      " 43  LanguageWorkedWith      87569 non-null  object \n",
      " 44  LanguageDesireNextYear  84088 non-null  object \n",
      " 45  DatabaseWorkedWith      76026 non-null  object \n",
      " 46  DatabaseDesireNextYear  69147 non-null  object \n",
      " 47  PlatformWorkedWith      80714 non-null  object \n",
      " 48  PlatformDesireNextYear  77443 non-null  object \n",
      " 49  WebFrameWorkedWith      65022 non-null  object \n",
      " 50  WebFrameDesireNextYear  62944 non-null  object \n",
      " 51  MiscTechWorkedWith      59586 non-null  object \n",
      " 52  MiscTechDesireNextYear  64511 non-null  object \n",
      " 53  DevEnviron              87317 non-null  object \n",
      " 54  OpSys                   87851 non-null  object \n",
      " 55  Containers              85366 non-null  object \n",
      " 56  BlockchainOrg           48175 non-null  object \n",
      " 57  BlockchainIs            60165 non-null  object \n",
      " 58  BetterLife              86269 non-null  object \n",
      " 59  ITperson                87141 non-null  object \n",
      " 60  OffOn                   86663 non-null  object \n",
      " 61  SocialMedia             84437 non-null  object \n",
      " 62  Extraversion            87305 non-null  object \n",
      " 63  ScreenName              80486 non-null  object \n",
      " 64  SOVisit1st              83877 non-null  object \n",
      " 65  SOVisitFreq             88263 non-null  object \n",
      " 66  SOVisitTo               88086 non-null  object \n",
      " 67  SOFindAnswer            87816 non-null  object \n",
      " 68  SOTimeSaved             86344 non-null  object \n",
      " 69  SOHowMuchTime           68378 non-null  object \n",
      " 70  SOAccount               87828 non-null  object \n",
      " 71  SOPartFreq              74692 non-null  object \n",
      " 72  SOJobs                  88066 non-null  object \n",
      " 73  EntTeams                87841 non-null  object \n",
      " 74  SOComm                  88131 non-null  object \n",
      " 75  WelcomeChange           85855 non-null  object \n",
      " 76  SONewContent            69560 non-null  object \n",
      " 77  Age                     79210 non-null  float64\n",
      " 78  Gender                  85406 non-null  object \n",
      " 79  Trans                   83607 non-null  object \n",
      " 80  Sexuality               76147 non-null  object \n",
      " 81  Ethnicity               76668 non-null  object \n",
      " 82  Dependents              83059 non-null  object \n",
      " 83  SurveyLength            86984 non-null  object \n",
      " 84  SurveyEase              87081 non-null  object \n",
      "dtypes: float64(5), int64(1), object(79)\n",
      "memory usage: 57.6+ MB\n"
     ]
    }
   ],
   "source": [
    "df.info()"
   ]
  },
  {
   "cell_type": "code",
   "execution_count": 71,
   "metadata": {},
   "outputs": [],
   "source": [
    "# pd.set_option('display.max_columns', df.shape[1])  # configure output to show all columns\n",
    "pd.set_option('display.max_columns', 5)"
   ]
  },
  {
   "cell_type": "markdown",
   "metadata": {},
   "source": [
    "Now we can load in the schema CSV file too, and find out what each of the columns in the survey results is all about."
   ]
  },
  {
   "cell_type": "code",
   "execution_count": 72,
   "metadata": {},
   "outputs": [],
   "source": [
    "schema = pd.read_csv('data/survey_results_schema.csv')\n",
    "# pd.set_option('display.max_rows', df.shape[0])   # will allow us to see all 85 rows\n",
    "pd.set_option('display.max_rows', 8)"
   ]
  },
  {
   "cell_type": "markdown",
   "metadata": {},
   "source": [
    "Note we can't usually see all 85 rows in the schema, but we've tweaked the `display.max_rows` setting above too.\n",
    "\n",
    "You can use `.head()` and `.tail()` to limit the number of rows if you don't want that many rows in your output."
   ]
  },
  {
   "cell_type": "code",
   "execution_count": 73,
   "metadata": {},
   "outputs": [
    {
     "data": {
      "text/html": "<div>\n<style scoped>\n    .dataframe tbody tr th:only-of-type {\n        vertical-align: middle;\n    }\n\n    .dataframe tbody tr th {\n        vertical-align: top;\n    }\n\n    .dataframe thead th {\n        text-align: right;\n    }\n</style>\n<table border=\"1\" class=\"dataframe\">\n  <thead>\n    <tr style=\"text-align: right;\">\n      <th></th>\n      <th>Column</th>\n      <th>QuestionText</th>\n    </tr>\n  </thead>\n  <tbody>\n    <tr>\n      <th>0</th>\n      <td>Respondent</td>\n      <td>Randomized respondent ID number (not in order ...</td>\n    </tr>\n    <tr>\n      <th>1</th>\n      <td>MainBranch</td>\n      <td>Which of the following options best describes ...</td>\n    </tr>\n    <tr>\n      <th>2</th>\n      <td>Hobbyist</td>\n      <td>Do you code as a hobby?</td>\n    </tr>\n  </tbody>\n</table>\n</div>",
      "text/plain": "       Column                                       QuestionText\n0  Respondent  Randomized respondent ID number (not in order ...\n1  MainBranch  Which of the following options best describes ...\n2    Hobbyist                            Do you code as a hobby?"
     },
     "execution_count": 73,
     "metadata": {},
     "output_type": "execute_result"
    }
   ],
   "source": [
    "schema.head(3)"
   ]
  },
  {
   "cell_type": "markdown",
   "metadata": {},
   "source": [
    "# DataFrame and Series Basics\n",
    "\n",
    "You can think of how you're accessing a DataFrame with square brackets as being a bit like accessing a dictionary of lists. The keys are like column labels and the lists are like the Series that define the rows."
   ]
  },
  {
   "cell_type": "code",
   "execution_count": 74,
   "metadata": {},
   "outputs": [
    {
     "data": {
      "text/plain": "['Corey', 'Jane']"
     },
     "execution_count": 74,
     "metadata": {},
     "output_type": "execute_result"
    }
   ],
   "source": [
    "people = {\n",
    "    \"first\": [\"Corey\", \"Jane\"],\n",
    "    \"last\": [\"Schafer\", \"Doe\"]\n",
    "}\n",
    "\n",
    "people[\"first\"]"
   ]
  },
  {
   "cell_type": "code",
   "execution_count": 75,
   "metadata": {},
   "outputs": [
    {
     "data": {
      "text/html": "<div>\n<style scoped>\n    .dataframe tbody tr th:only-of-type {\n        vertical-align: middle;\n    }\n\n    .dataframe tbody tr th {\n        vertical-align: top;\n    }\n\n    .dataframe thead th {\n        text-align: right;\n    }\n</style>\n<table border=\"1\" class=\"dataframe\">\n  <thead>\n    <tr style=\"text-align: right;\">\n      <th></th>\n      <th>first</th>\n      <th>last</th>\n    </tr>\n  </thead>\n  <tbody>\n    <tr>\n      <th>0</th>\n      <td>Corey</td>\n      <td>Schafer</td>\n    </tr>\n    <tr>\n      <th>1</th>\n      <td>Jane</td>\n      <td>Doe</td>\n    </tr>\n  </tbody>\n</table>\n</div>",
      "text/plain": "   first     last\n0  Corey  Schafer\n1   Jane      Doe"
     },
     "execution_count": 75,
     "metadata": {},
     "output_type": "execute_result"
    }
   ],
   "source": [
    "pd.DataFrame(people)"
   ]
  },
  {
   "cell_type": "markdown",
   "metadata": {},
   "source": [
    "See the `Snippets.ipynb` notebook for code showing how to access rows and columns.\n",
    "\n",
    "Let's look at what we can do with the main data set."
   ]
  },
  {
   "cell_type": "code",
   "execution_count": 76,
   "metadata": {},
   "outputs": [
    {
     "data": {
      "text/plain": "0        Yes\n1         No\n2        Yes\n3         No\n        ... \n88879     No\n88880     No\n88881     No\n88882    Yes\nName: Hobbyist, Length: 88883, dtype: object"
     },
     "execution_count": 76,
     "metadata": {},
     "output_type": "execute_result"
    }
   ],
   "source": [
    "df['Hobbyist']"
   ]
  },
  {
   "cell_type": "code",
   "execution_count": 77,
   "metadata": {},
   "outputs": [
    {
     "data": {
      "text/plain": "'Yes'"
     },
     "execution_count": 77,
     "metadata": {},
     "output_type": "execute_result"
    }
   ],
   "source": [
    "df.loc[0, 'Hobbyist']  # first row, Hobbyist column"
   ]
  },
  {
   "cell_type": "code",
   "execution_count": 78,
   "metadata": {},
   "outputs": [
    {
     "data": {
      "text/html": "<div>\n<style scoped>\n    .dataframe tbody tr th:only-of-type {\n        vertical-align: middle;\n    }\n\n    .dataframe tbody tr th {\n        vertical-align: top;\n    }\n\n    .dataframe thead th {\n        text-align: right;\n    }\n</style>\n<table border=\"1\" class=\"dataframe\">\n  <thead>\n    <tr style=\"text-align: right;\">\n      <th></th>\n      <th>Hobbyist</th>\n      <th>OpenSourcer</th>\n      <th>OpenSource</th>\n      <th>Employment</th>\n    </tr>\n  </thead>\n  <tbody>\n    <tr>\n      <th>0</th>\n      <td>Yes</td>\n      <td>Never</td>\n      <td>The quality of OSS and closed source software ...</td>\n      <td>Not employed, and not looking for work</td>\n    </tr>\n    <tr>\n      <th>1</th>\n      <td>No</td>\n      <td>Less than once per year</td>\n      <td>The quality of OSS and closed source software ...</td>\n      <td>Not employed, but looking for work</td>\n    </tr>\n    <tr>\n      <th>2</th>\n      <td>Yes</td>\n      <td>Never</td>\n      <td>The quality of OSS and closed source software ...</td>\n      <td>Employed full-time</td>\n    </tr>\n  </tbody>\n</table>\n</div>",
      "text/plain": "  Hobbyist              OpenSourcer  \\\n0      Yes                    Never   \n1       No  Less than once per year   \n2      Yes                    Never   \n\n                                          OpenSource  \\\n0  The quality of OSS and closed source software ...   \n1  The quality of OSS and closed source software ...   \n2  The quality of OSS and closed source software ...   \n\n                               Employment  \n0  Not employed, and not looking for work  \n1      Not employed, but looking for work  \n2                      Employed full-time  "
     },
     "execution_count": 78,
     "metadata": {},
     "output_type": "execute_result"
    }
   ],
   "source": [
    "df.loc\n",
    "df.loc[0:2, 'Hobbyist':'Employment']"
   ]
  },
  {
   "cell_type": "markdown",
   "metadata": {},
   "source": [
    "# Indexes: set, reset and using"
   ]
  },
  {
   "cell_type": "code",
   "execution_count": 79,
   "metadata": {},
   "outputs": [],
   "source": [
    "df.set_index('Respondent', inplace=True)  # could also use index_col in read_csv"
   ]
  },
  {
   "cell_type": "markdown",
   "metadata": {},
   "source": [
    "How do we find the question for a column, given that we have the schema frame?"
   ]
  },
  {
   "cell_type": "code",
   "execution_count": 80,
   "metadata": {},
   "outputs": [
    {
     "data": {
      "text/html": "<div>\n<style scoped>\n    .dataframe tbody tr th:only-of-type {\n        vertical-align: middle;\n    }\n\n    .dataframe tbody tr th {\n        vertical-align: top;\n    }\n\n    .dataframe thead th {\n        text-align: right;\n    }\n</style>\n<table border=\"1\" class=\"dataframe\">\n  <thead>\n    <tr style=\"text-align: right;\">\n      <th></th>\n      <th>Column</th>\n      <th>QuestionText</th>\n    </tr>\n  </thead>\n  <tbody>\n    <tr>\n      <th>0</th>\n      <td>Respondent</td>\n      <td>Randomized respondent ID number (not in order ...</td>\n    </tr>\n    <tr>\n      <th>1</th>\n      <td>MainBranch</td>\n      <td>Which of the following options best describes ...</td>\n    </tr>\n    <tr>\n      <th>2</th>\n      <td>Hobbyist</td>\n      <td>Do you code as a hobby?</td>\n    </tr>\n  </tbody>\n</table>\n</div>",
      "text/plain": "       Column                                       QuestionText\n0  Respondent  Randomized respondent ID number (not in order ...\n1  MainBranch  Which of the following options best describes ...\n2    Hobbyist                            Do you code as a hobby?"
     },
     "execution_count": 80,
     "metadata": {},
     "output_type": "execute_result"
    }
   ],
   "source": [
    "schema.head(3)"
   ]
  },
  {
   "cell_type": "code",
   "execution_count": 81,
   "metadata": {},
   "outputs": [],
   "source": [
    "schema.set_index('Column', inplace=True)"
   ]
  },
  {
   "cell_type": "code",
   "execution_count": 82,
   "metadata": {},
   "outputs": [
    {
     "data": {
      "text/plain": "QuestionText    How confident are you that your manager knows ...\nName: MgrIdiot, dtype: object"
     },
     "execution_count": 82,
     "metadata": {},
     "output_type": "execute_result"
    }
   ],
   "source": [
    "schema.loc['MgrIdiot']"
   ]
  },
  {
   "cell_type": "code",
   "execution_count": 83,
   "metadata": {},
   "outputs": [
    {
     "data": {
      "text/html": "<div>\n<style scoped>\n    .dataframe tbody tr th:only-of-type {\n        vertical-align: middle;\n    }\n\n    .dataframe tbody tr th {\n        vertical-align: top;\n    }\n\n    .dataframe thead th {\n        text-align: right;\n    }\n</style>\n<table border=\"1\" class=\"dataframe\">\n  <thead>\n    <tr style=\"text-align: right;\">\n      <th></th>\n      <th>QuestionText</th>\n    </tr>\n    <tr>\n      <th>Column</th>\n      <th></th>\n    </tr>\n  </thead>\n  <tbody>\n    <tr>\n      <th>Age</th>\n      <td>What is your age (in years)? If you prefer not...</td>\n    </tr>\n    <tr>\n      <th>Age1stCode</th>\n      <td>At what age did you write your first line of c...</td>\n    </tr>\n    <tr>\n      <th>BetterLife</th>\n      <td>Do you think people born today will have a bet...</td>\n    </tr>\n  </tbody>\n</table>\n</div>",
      "text/plain": "                                                 QuestionText\nColumn                                                       \nAge         What is your age (in years)? If you prefer not...\nAge1stCode  At what age did you write your first line of c...\nBetterLife  Do you think people born today will have a bet..."
     },
     "execution_count": 83,
     "metadata": {},
     "output_type": "execute_result"
    }
   ],
   "source": [
    "schema.sort_index().head(3)"
   ]
  },
  {
   "cell_type": "markdown",
   "metadata": {},
   "source": [
    "# Filtering\n",
    "\n",
    "Who makes loads of money writing Python, in one of the countries we're most interested in?"
   ]
  },
  {
   "cell_type": "code",
   "execution_count": 84,
   "metadata": {},
   "outputs": [],
   "source": [
    "countries = ['United States', 'India', 'United Kingdom', 'Germany', 'Canada']\n",
    "in_country = df['Country'].isin(countries)"
   ]
  },
  {
   "cell_type": "code",
   "execution_count": 85,
   "metadata": {},
   "outputs": [],
   "source": [
    "does_python = df['LanguageWorkedWith'].str.contains('Python', na=False)"
   ]
  },
  {
   "cell_type": "code",
   "execution_count": 86,
   "metadata": {},
   "outputs": [],
   "source": [
    "high_salary = (df['ConvertedComp'] > 70000)"
   ]
  },
  {
   "cell_type": "code",
   "execution_count": 87,
   "metadata": {},
   "outputs": [
    {
     "data": {
      "text/html": "<div>\n<style scoped>\n    .dataframe tbody tr th:only-of-type {\n        vertical-align: middle;\n    }\n\n    .dataframe tbody tr th {\n        vertical-align: top;\n    }\n\n    .dataframe thead th {\n        text-align: right;\n    }\n</style>\n<table border=\"1\" class=\"dataframe\">\n  <thead>\n    <tr style=\"text-align: right;\">\n      <th></th>\n      <th>MainBranch</th>\n      <th>Hobbyist</th>\n      <th>...</th>\n      <th>SurveyLength</th>\n      <th>SurveyEase</th>\n    </tr>\n    <tr>\n      <th>Respondent</th>\n      <th></th>\n      <th></th>\n      <th></th>\n      <th></th>\n      <th></th>\n    </tr>\n  </thead>\n  <tbody>\n    <tr>\n      <th>22</th>\n      <td>I am a developer by profession</td>\n      <td>Yes</td>\n      <td>...</td>\n      <td>Appropriate in length</td>\n      <td>Easy</td>\n    </tr>\n    <tr>\n      <th>26</th>\n      <td>I am a developer by profession</td>\n      <td>Yes</td>\n      <td>...</td>\n      <td>Appropriate in length</td>\n      <td>Easy</td>\n    </tr>\n    <tr>\n      <th>32</th>\n      <td>I am a developer by profession</td>\n      <td>No</td>\n      <td>...</td>\n      <td>Appropriate in length</td>\n      <td>Neither easy nor difficult</td>\n    </tr>\n  </tbody>\n</table>\n<p>3 rows × 84 columns</p>\n</div>",
      "text/plain": "                                MainBranch Hobbyist  ...  \\\nRespondent                                           ...   \n22          I am a developer by profession      Yes  ...   \n26          I am a developer by profession      Yes  ...   \n32          I am a developer by profession       No  ...   \n\n                     SurveyLength                  SurveyEase  \nRespondent                                                     \n22          Appropriate in length                        Easy  \n26          Appropriate in length                        Easy  \n32          Appropriate in length  Neither easy nor difficult  \n\n[3 rows x 84 columns]"
     },
     "execution_count": 87,
     "metadata": {},
     "output_type": "execute_result"
    }
   ],
   "source": [
    "df[high_salary & does_python & in_country].head(3)"
   ]
  },
  {
   "cell_type": "code",
   "execution_count": 88,
   "metadata": {},
   "outputs": [
    {
     "data": {
      "text/html": "<div>\n<style scoped>\n    .dataframe tbody tr th:only-of-type {\n        vertical-align: middle;\n    }\n\n    .dataframe tbody tr th {\n        vertical-align: top;\n    }\n\n    .dataframe thead th {\n        text-align: right;\n    }\n</style>\n<table border=\"1\" class=\"dataframe\">\n  <thead>\n    <tr style=\"text-align: right;\">\n      <th></th>\n      <th>Country</th>\n      <th>LanguageWorkedWith</th>\n      <th>ConvertedComp</th>\n    </tr>\n    <tr>\n      <th>Respondent</th>\n      <th></th>\n      <th></th>\n      <th></th>\n    </tr>\n  </thead>\n  <tbody>\n    <tr>\n      <th>6</th>\n      <td>Canada</td>\n      <td>Java;R;SQL</td>\n      <td>366420.0</td>\n    </tr>\n    <tr>\n      <th>9</th>\n      <td>New Zealand</td>\n      <td>Bash/Shell/PowerShell;C#;HTML/CSS;JavaScript;P...</td>\n      <td>95179.0</td>\n    </tr>\n    <tr>\n      <th>13</th>\n      <td>United States</td>\n      <td>Bash/Shell/PowerShell;HTML/CSS;JavaScript;PHP;...</td>\n      <td>90000.0</td>\n    </tr>\n    <tr>\n      <th>16</th>\n      <td>United Kingdom</td>\n      <td>Bash/Shell/PowerShell;C#;HTML/CSS;JavaScript;T...</td>\n      <td>455352.0</td>\n    </tr>\n    <tr>\n      <th>...</th>\n      <td>...</td>\n      <td>...</td>\n      <td>...</td>\n    </tr>\n    <tr>\n      <th>88877</th>\n      <td>United States</td>\n      <td>Bash/Shell/PowerShell;C;Clojure;HTML/CSS;Java;...</td>\n      <td>2000000.0</td>\n    </tr>\n    <tr>\n      <th>88878</th>\n      <td>United States</td>\n      <td>HTML/CSS;JavaScript;Scala;TypeScript</td>\n      <td>130000.0</td>\n    </tr>\n    <tr>\n      <th>88879</th>\n      <td>Finland</td>\n      <td>Bash/Shell/PowerShell;C++;Python</td>\n      <td>82488.0</td>\n    </tr>\n    <tr>\n      <th>88882</th>\n      <td>Netherlands</td>\n      <td>C#;HTML/CSS;Java;JavaScript;PHP;Python</td>\n      <td>588012.0</td>\n    </tr>\n  </tbody>\n</table>\n<p>22289 rows × 3 columns</p>\n</div>",
      "text/plain": "                   Country                                 LanguageWorkedWith  \\\nRespondent                                                                      \n6                   Canada                                         Java;R;SQL   \n9              New Zealand  Bash/Shell/PowerShell;C#;HTML/CSS;JavaScript;P...   \n13           United States  Bash/Shell/PowerShell;HTML/CSS;JavaScript;PHP;...   \n16          United Kingdom  Bash/Shell/PowerShell;C#;HTML/CSS;JavaScript;T...   \n...                    ...                                                ...   \n88877        United States  Bash/Shell/PowerShell;C;Clojure;HTML/CSS;Java;...   \n88878        United States               HTML/CSS;JavaScript;Scala;TypeScript   \n88879              Finland                   Bash/Shell/PowerShell;C++;Python   \n88882          Netherlands             C#;HTML/CSS;Java;JavaScript;PHP;Python   \n\n            ConvertedComp  \nRespondent                 \n6                366420.0  \n9                 95179.0  \n13                90000.0  \n16               455352.0  \n...                   ...  \n88877           2000000.0  \n88878            130000.0  \n88879             82488.0  \n88882            588012.0  \n\n[22289 rows x 3 columns]"
     },
     "execution_count": 88,
     "metadata": {},
     "output_type": "execute_result"
    }
   ],
   "source": [
    "df.loc[high_salary, ['Country', 'LanguageWorkedWith', 'ConvertedComp']]"
   ]
  },
  {
   "cell_type": "markdown",
   "metadata": {},
   "source": [
    "# Sorting data"
   ]
  },
  {
   "cell_type": "markdown",
   "metadata": {},
   "source": [
    "Imagine we want to look at survey results by country and salary."
   ]
  },
  {
   "cell_type": "code",
   "execution_count": 91,
   "metadata": {},
   "outputs": [],
   "source": [
    "df.sort_values(by='Country', inplace=True)"
   ]
  },
  {
   "cell_type": "code",
   "execution_count": 95,
   "metadata": {},
   "outputs": [
    {
     "data": {
      "text/html": "<div>\n<style scoped>\n    .dataframe tbody tr th:only-of-type {\n        vertical-align: middle;\n    }\n\n    .dataframe tbody tr th {\n        vertical-align: top;\n    }\n\n    .dataframe thead th {\n        text-align: right;\n    }\n</style>\n<table border=\"1\" class=\"dataframe\">\n  <thead>\n    <tr style=\"text-align: right;\">\n      <th></th>\n      <th>Country</th>\n      <th>ConvertedComp</th>\n    </tr>\n    <tr>\n      <th>Respondent</th>\n      <th></th>\n      <th></th>\n    </tr>\n  </thead>\n  <tbody>\n    <tr>\n      <th>39258</th>\n      <td>Afghanistan</td>\n      <td>19152.0</td>\n    </tr>\n    <tr>\n      <th>87091</th>\n      <td>Afghanistan</td>\n      <td>NaN</td>\n    </tr>\n    <tr>\n      <th>58760</th>\n      <td>Afghanistan</td>\n      <td>NaN</td>\n    </tr>\n    <tr>\n      <th>74386</th>\n      <td>Afghanistan</td>\n      <td>NaN</td>\n    </tr>\n    <tr>\n      <th>29045</th>\n      <td>Afghanistan</td>\n      <td>NaN</td>\n    </tr>\n  </tbody>\n</table>\n</div>",
      "text/plain": "                Country  ConvertedComp\nRespondent                            \n39258       Afghanistan        19152.0\n87091       Afghanistan            NaN\n58760       Afghanistan            NaN\n74386       Afghanistan            NaN\n29045       Afghanistan            NaN"
     },
     "execution_count": 95,
     "metadata": {},
     "output_type": "execute_result"
    }
   ],
   "source": [
    "df[['Country', 'ConvertedComp']].head(5)"
   ]
  },
  {
   "cell_type": "code",
   "execution_count": 99,
   "metadata": {},
   "outputs": [],
   "source": [
    "df.sort_values(\n",
    "    by=['Country', 'ConvertedComp'],\n",
    "    ascending=[True, False],\n",
    "    inplace=True\n",
    ")"
   ]
  },
  {
   "cell_type": "code",
   "execution_count": 100,
   "metadata": {},
   "outputs": [
    {
     "data": {
      "text/html": "<div>\n<style scoped>\n    .dataframe tbody tr th:only-of-type {\n        vertical-align: middle;\n    }\n\n    .dataframe tbody tr th {\n        vertical-align: top;\n    }\n\n    .dataframe thead th {\n        text-align: right;\n    }\n</style>\n<table border=\"1\" class=\"dataframe\">\n  <thead>\n    <tr style=\"text-align: right;\">\n      <th></th>\n      <th>Country</th>\n      <th>ConvertedComp</th>\n    </tr>\n    <tr>\n      <th>Respondent</th>\n      <th></th>\n      <th></th>\n    </tr>\n  </thead>\n  <tbody>\n    <tr>\n      <th>63129</th>\n      <td>Afghanistan</td>\n      <td>1000000.0</td>\n    </tr>\n    <tr>\n      <th>50499</th>\n      <td>Afghanistan</td>\n      <td>153216.0</td>\n    </tr>\n    <tr>\n      <th>39258</th>\n      <td>Afghanistan</td>\n      <td>19152.0</td>\n    </tr>\n    <tr>\n      <th>58450</th>\n      <td>Afghanistan</td>\n      <td>17556.0</td>\n    </tr>\n    <tr>\n      <th>7085</th>\n      <td>Afghanistan</td>\n      <td>14364.0</td>\n    </tr>\n  </tbody>\n</table>\n</div>",
      "text/plain": "                Country  ConvertedComp\nRespondent                            \n63129       Afghanistan      1000000.0\n50499       Afghanistan       153216.0\n39258       Afghanistan        19152.0\n58450       Afghanistan        17556.0\n7085        Afghanistan        14364.0"
     },
     "execution_count": 100,
     "metadata": {},
     "output_type": "execute_result"
    }
   ],
   "source": [
    "df[['Country', 'ConvertedComp']].head(5)"
   ]
  },
  {
   "cell_type": "markdown",
   "metadata": {},
   "source": [
    "Who are the top 10 most highly paid respondents in Afghanistan, and what do they do?"
   ]
  },
  {
   "cell_type": "code",
   "execution_count": 130,
   "metadata": {},
   "outputs": [
    {
     "data": {
      "text/html": "<div>\n<style scoped>\n    .dataframe tbody tr th:only-of-type {\n        vertical-align: middle;\n    }\n\n    .dataframe tbody tr th {\n        vertical-align: top;\n    }\n\n    .dataframe thead th {\n        text-align: right;\n    }\n</style>\n<table border=\"1\" class=\"dataframe\">\n  <thead>\n    <tr style=\"text-align: right;\">\n      <th></th>\n      <th>ConvertedComp</th>\n      <th>Employment</th>\n      <th>EdLevel</th>\n      <th>Student</th>\n    </tr>\n    <tr>\n      <th>Respondent</th>\n      <th></th>\n      <th></th>\n      <th></th>\n      <th></th>\n    </tr>\n  </thead>\n  <tbody>\n    <tr>\n      <th>63129</th>\n      <td>1000000.0</td>\n      <td>Employed full-time</td>\n      <td>I never completed any formal education</td>\n      <td>Yes, full-time</td>\n    </tr>\n    <tr>\n      <th>50499</th>\n      <td>153216.0</td>\n      <td>Employed full-time</td>\n      <td>Bachelor’s degree (BA, BS, B.Eng., etc.)</td>\n      <td>No</td>\n    </tr>\n    <tr>\n      <th>39258</th>\n      <td>19152.0</td>\n      <td>Employed full-time</td>\n      <td>Bachelor’s degree (BA, BS, B.Eng., etc.)</td>\n      <td>No</td>\n    </tr>\n    <tr>\n      <th>58450</th>\n      <td>17556.0</td>\n      <td>Employed full-time</td>\n      <td>Bachelor’s degree (BA, BS, B.Eng., etc.)</td>\n      <td>No</td>\n    </tr>\n    <tr>\n      <th>...</th>\n      <td>...</td>\n      <td>...</td>\n      <td>...</td>\n      <td>...</td>\n    </tr>\n    <tr>\n      <th>48436</th>\n      <td>4464.0</td>\n      <td>Employed full-time</td>\n      <td>Secondary school (e.g. American high school, G...</td>\n      <td>Yes, part-time</td>\n    </tr>\n    <tr>\n      <th>10746</th>\n      <td>3996.0</td>\n      <td>Employed full-time</td>\n      <td>Bachelor’s degree (BA, BS, B.Eng., etc.)</td>\n      <td>No</td>\n    </tr>\n    <tr>\n      <th>8149</th>\n      <td>1596.0</td>\n      <td>Employed full-time</td>\n      <td>Bachelor’s degree (BA, BS, B.Eng., etc.)</td>\n      <td>Yes, full-time</td>\n    </tr>\n    <tr>\n      <th>29736</th>\n      <td>1116.0</td>\n      <td>Employed full-time</td>\n      <td>Primary/elementary school</td>\n      <td>Yes, part-time</td>\n    </tr>\n  </tbody>\n</table>\n<p>10 rows × 4 columns</p>\n</div>",
      "text/plain": "            ConvertedComp          Employment  \\\nRespondent                                      \n63129           1000000.0  Employed full-time   \n50499            153216.0  Employed full-time   \n39258             19152.0  Employed full-time   \n58450             17556.0  Employed full-time   \n...                   ...                 ...   \n48436              4464.0  Employed full-time   \n10746              3996.0  Employed full-time   \n8149               1596.0  Employed full-time   \n29736              1116.0  Employed full-time   \n\n                                                      EdLevel         Student  \nRespondent                                                                     \n63129                  I never completed any formal education  Yes, full-time  \n50499                Bachelor’s degree (BA, BS, B.Eng., etc.)              No  \n39258                Bachelor’s degree (BA, BS, B.Eng., etc.)              No  \n58450                Bachelor’s degree (BA, BS, B.Eng., etc.)              No  \n...                                                       ...             ...  \n48436       Secondary school (e.g. American high school, G...  Yes, part-time  \n10746                Bachelor’s degree (BA, BS, B.Eng., etc.)              No  \n8149                 Bachelor’s degree (BA, BS, B.Eng., etc.)  Yes, full-time  \n29736                               Primary/elementary school  Yes, part-time  \n\n[10 rows x 4 columns]"
     },
     "execution_count": 130,
     "metadata": {},
     "output_type": "execute_result"
    }
   ],
   "source": [
    "in_afghanistan = df['Country'] == 'Afghanistan'\n",
    "df[in_afghanistan].nlargest(10, 'ConvertedComp')[['ConvertedComp', 'Employment', 'EdLevel', 'Student']]"
   ]
  },
  {
   "cell_type": "code",
   "execution_count": 131,
   "metadata": {},
   "outputs": [],
   "source": [
    "df.sort_index(inplace=True)"
   ]
  },
  {
   "cell_type": "markdown",
   "metadata": {},
   "source": [
    "# Grouping and Aggregating\n",
    "\n",
    "Aggregation involves taking a set of results and returning a single value that represents them (e.g. mean, mode, median, standard deviation, etc.).\n",
    "\n",
    "So, what's a typical salary for the developers who answered the survye?"
   ]
  },
  {
   "cell_type": "code",
   "execution_count": 133,
   "metadata": {},
   "outputs": [
    {
     "data": {
      "text/plain": "Respondent\n1         NaN\n2         NaN\n3      8820.0\n4     61000.0\n       ...   \n12        NaN\n13    90000.0\n14    57060.0\n15        NaN\nName: ConvertedComp, Length: 15, dtype: float64"
     },
     "execution_count": 133,
     "metadata": {},
     "output_type": "execute_result"
    }
   ],
   "source": [
    "df['ConvertedComp'].head(15)"
   ]
  },
  {
   "cell_type": "code",
   "execution_count": 135,
   "metadata": {},
   "outputs": [
    {
     "data": {
      "text/plain": "57287.0"
     },
     "execution_count": 135,
     "metadata": {},
     "output_type": "execute_result"
    }
   ],
   "source": [
    "df['ConvertedComp'].median()"
   ]
  },
  {
   "cell_type": "code",
   "execution_count": 136,
   "metadata": {},
   "outputs": [
    {
     "data": {
      "text/plain": "CompTotal        62000.0\nConvertedComp    57287.0\nWorkWeekHrs         40.0\nCodeRevHrs           4.0\nAge                 29.0\ndtype: float64"
     },
     "execution_count": 136,
     "metadata": {},
     "output_type": "execute_result"
    }
   ],
   "source": [
    "df.median()"
   ]
  },
  {
   "cell_type": "code",
   "execution_count": 138,
   "metadata": {},
   "outputs": [
    {
     "data": {
      "text/html": "<div>\n<style scoped>\n    .dataframe tbody tr th:only-of-type {\n        vertical-align: middle;\n    }\n\n    .dataframe tbody tr th {\n        vertical-align: top;\n    }\n\n    .dataframe thead th {\n        text-align: right;\n    }\n</style>\n<table border=\"1\" class=\"dataframe\">\n  <thead>\n    <tr style=\"text-align: right;\">\n      <th></th>\n      <th>CompTotal</th>\n      <th>ConvertedComp</th>\n      <th>WorkWeekHrs</th>\n      <th>CodeRevHrs</th>\n      <th>Age</th>\n    </tr>\n  </thead>\n  <tbody>\n    <tr>\n      <th>count</th>\n      <td>5.594500e+04</td>\n      <td>5.582300e+04</td>\n      <td>64503.000000</td>\n      <td>49790.000000</td>\n      <td>79210.000000</td>\n    </tr>\n    <tr>\n      <th>mean</th>\n      <td>5.519014e+11</td>\n      <td>1.271107e+05</td>\n      <td>42.127197</td>\n      <td>5.084308</td>\n      <td>30.336699</td>\n    </tr>\n    <tr>\n      <th>std</th>\n      <td>7.331926e+13</td>\n      <td>2.841523e+05</td>\n      <td>37.287610</td>\n      <td>5.513931</td>\n      <td>9.178390</td>\n    </tr>\n    <tr>\n      <th>min</th>\n      <td>0.000000e+00</td>\n      <td>0.000000e+00</td>\n      <td>1.000000</td>\n      <td>0.000000</td>\n      <td>1.000000</td>\n    </tr>\n    <tr>\n      <th>25%</th>\n      <td>2.000000e+04</td>\n      <td>2.577750e+04</td>\n      <td>40.000000</td>\n      <td>2.000000</td>\n      <td>24.000000</td>\n    </tr>\n    <tr>\n      <th>50%</th>\n      <td>6.200000e+04</td>\n      <td>5.728700e+04</td>\n      <td>40.000000</td>\n      <td>4.000000</td>\n      <td>29.000000</td>\n    </tr>\n    <tr>\n      <th>75%</th>\n      <td>1.200000e+05</td>\n      <td>1.000000e+05</td>\n      <td>44.750000</td>\n      <td>6.000000</td>\n      <td>35.000000</td>\n    </tr>\n    <tr>\n      <th>max</th>\n      <td>1.000000e+16</td>\n      <td>2.000000e+06</td>\n      <td>4850.000000</td>\n      <td>99.000000</td>\n      <td>99.000000</td>\n    </tr>\n  </tbody>\n</table>\n</div>",
      "text/plain": "          CompTotal  ConvertedComp   WorkWeekHrs    CodeRevHrs           Age\ncount  5.594500e+04   5.582300e+04  64503.000000  49790.000000  79210.000000\nmean   5.519014e+11   1.271107e+05     42.127197      5.084308     30.336699\nstd    7.331926e+13   2.841523e+05     37.287610      5.513931      9.178390\nmin    0.000000e+00   0.000000e+00      1.000000      0.000000      1.000000\n25%    2.000000e+04   2.577750e+04     40.000000      2.000000     24.000000\n50%    6.200000e+04   5.728700e+04     40.000000      4.000000     29.000000\n75%    1.200000e+05   1.000000e+05     44.750000      6.000000     35.000000\nmax    1.000000e+16   2.000000e+06   4850.000000     99.000000     99.000000"
     },
     "execution_count": 138,
     "metadata": {},
     "output_type": "execute_result"
    }
   ],
   "source": [
    "df.describe()"
   ]
  },
  {
   "cell_type": "code",
   "execution_count": 140,
   "metadata": {},
   "outputs": [
    {
     "data": {
      "text/plain": "55823"
     },
     "execution_count": 140,
     "metadata": {},
     "output_type": "execute_result"
    }
   ],
   "source": [
    "df['ConvertedComp'].count()  # how many people answered question?"
   ]
  },
  {
   "cell_type": "code",
   "execution_count": 143,
   "metadata": {},
   "outputs": [
    {
     "data": {
      "text/plain": "Yes    71257\nNo     17626\nName: Hobbyist, dtype: int64"
     },
     "execution_count": 143,
     "metadata": {},
     "output_type": "execute_result"
    }
   ],
   "source": [
    "df['Hobbyist'].value_counts()"
   ]
  },
  {
   "cell_type": "code",
   "execution_count": 146,
   "metadata": {},
   "outputs": [
    {
     "data": {
      "text/plain": "QuestionText    What social media site do you use the most?\nName: SocialMedia, dtype: object"
     },
     "execution_count": 146,
     "metadata": {},
     "output_type": "execute_result"
    }
   ],
   "source": [
    "schema.loc['SocialMedia']"
   ]
  },
  {
   "cell_type": "code",
   "execution_count": 145,
   "metadata": {},
   "outputs": [
    {
     "data": {
      "text/plain": "Reddit            14374\nYouTube           13830\nWhatsApp          13347\nFacebook          13178\n                  ...  \nVK ВКонта́кте       603\nWeibo 新浪微博           56\nYouku Tudou 优酷       21\nHello                19\nName: SocialMedia, Length: 14, dtype: int64"
     },
     "execution_count": 145,
     "metadata": {},
     "output_type": "execute_result"
    }
   ],
   "source": [
    "df['SocialMedia'].value_counts()"
   ]
  },
  {
   "cell_type": "code",
   "execution_count": 147,
   "metadata": {},
   "outputs": [
    {
     "data": {
      "text/plain": "Reddit            0.170233\nYouTube           0.163791\nWhatsApp          0.158071\nFacebook          0.156069\n                    ...   \nVK ВКонта́кте     0.007141\nWeibo 新浪微博        0.000663\nYouku Tudou 优酷    0.000249\nHello             0.000225\nName: SocialMedia, Length: 14, dtype: float64"
     },
     "execution_count": 147,
     "metadata": {},
     "output_type": "execute_result"
    }
   ],
   "source": [
    "df['SocialMedia'].value_counts(normalize=True)"
   ]
  },
  {
   "cell_type": "markdown",
   "metadata": {},
   "source": [
    "Might the popularity vary geographically?"
   ]
  },
  {
   "cell_type": "code",
   "execution_count": 149,
   "metadata": {},
   "outputs": [
    {
     "data": {
      "text/plain": "United States                       20949\nIndia                                9061\nGermany                              5866\nUnited Kingdom                       5737\n                                    ...  \nPapua New Guinea                        1\nDominica                                1\nSaint Vincent and the Grenadines        1\nTonga                                   1\nName: Country, Length: 179, dtype: int64"
     },
     "execution_count": 149,
     "metadata": {},
     "output_type": "execute_result"
    }
   ],
   "source": [
    "df['Country'].value_counts()"
   ]
  },
  {
   "cell_type": "code",
   "execution_count": 153,
   "metadata": {},
   "outputs": [],
   "source": [
    "country_group = df.groupby(['Country'])"
   ]
  },
  {
   "cell_type": "code",
   "execution_count": 157,
   "metadata": {},
   "outputs": [
    {
     "data": {
      "text/plain": "Reddit            1199\nTwitter            995\nWhatsApp           909\nFacebook           811\n                  ... \nWeChat 微信           11\nVK ВКонта́кте        3\nWeibo 新浪微博           1\nYouku Tudou 优酷       1\nName: SocialMedia, Length: 13, dtype: int64"
     },
     "execution_count": 157,
     "metadata": {},
     "output_type": "execute_result"
    }
   ],
   "source": [
    "country_group.get_group('United Kingdom')['SocialMedia'].value_counts()"
   ]
  },
  {
   "cell_type": "code",
   "execution_count": 159,
   "metadata": {},
   "outputs": [
    {
     "data": {
      "text/plain": "Reddit            5700\nTwitter           3468\nFacebook          2844\nYouTube           2463\n                  ... \nVK ВКонта́кте        9\nWeibo 新浪微博           8\nHello                2\nYouku Tudou 优酷       1\nName: SocialMedia, Length: 14, dtype: int64"
     },
     "execution_count": 159,
     "metadata": {},
     "output_type": "execute_result"
    }
   ],
   "source": [
    "country_group.get_group('United States')['SocialMedia'].value_counts()"
   ]
  },
  {
   "cell_type": "code",
   "execution_count": 160,
   "metadata": {},
   "outputs": [
    {
     "data": {
      "text/plain": "WhatsApp          2990\nYouTube           1820\nLinkedIn           955\nFacebook           841\n                  ... \nHello                5\nVK ВКонта́кте        4\nYouku Tudou 优酷       2\nWeibo 新浪微博           1\nName: SocialMedia, Length: 14, dtype: int64"
     },
     "execution_count": 160,
     "metadata": {},
     "output_type": "execute_result"
    }
   ],
   "source": [
    "country_group.get_group('India')['SocialMedia'].value_counts()"
   ]
  },
  {
   "cell_type": "code",
   "execution_count": 162,
   "metadata": {},
   "outputs": [
    {
     "data": {
      "text/plain": "Country      SocialMedia             \nAfghanistan  Facebook                    15\n             YouTube                      9\n             I don't use social media     6\n             WhatsApp                     4\n                                         ..\nZimbabwe     YouTube                      3\n             Instagram                    2\n             LinkedIn                     2\n             Reddit                       1\nName: SocialMedia, Length: 1220, dtype: int64"
     },
     "execution_count": 162,
     "metadata": {},
     "output_type": "execute_result"
    }
   ],
   "source": [
    "country_group['SocialMedia'].value_counts()"
   ]
  },
  {
   "cell_type": "code",
   "execution_count": 163,
   "metadata": {},
   "outputs": [
    {
     "data": {
      "text/plain": "SocialMedia\nWhatsApp          2990\nYouTube           1820\nLinkedIn           955\nFacebook           841\n                  ... \nWeChat 微信            5\nVK ВКонта́кте        4\nYouku Tudou 优酷       2\nWeibo 新浪微博           1\nName: SocialMedia, Length: 14, dtype: int64"
     },
     "execution_count": 163,
     "metadata": {},
     "output_type": "execute_result"
    }
   ],
   "source": [
    "country_group['SocialMedia'].value_counts().loc['India']"
   ]
  },
  {
   "cell_type": "code",
   "execution_count": 182,
   "metadata": {},
   "outputs": [
    {
     "data": {
      "text/plain": "SocialMedia\nReddit            0.216192\nTwitter           0.179409\nWhatsApp          0.163902\nFacebook          0.146232\n                    ...   \nWeChat 微信         0.001983\nVK ВКонта́кте     0.000541\nWeibo 新浪微博        0.000180\nYouku Tudou 优酷    0.000180\nName: SocialMedia, Length: 13, dtype: float64"
     },
     "execution_count": 182,
     "metadata": {},
     "output_type": "execute_result"
    }
   ],
   "source": [
    "country_group['SocialMedia'].value_counts(normalize=True).loc['United Kingdom']"
   ]
  },
  {
   "cell_type": "code",
   "execution_count": 185,
   "metadata": {},
   "outputs": [
    {
     "data": {
      "text/plain": "Country\nAfghanistan      6222.0\nAlbania         10818.0\nAlgeria          7878.0\nAndorra        160931.0\n                 ...   \nViet Nam        11892.0\nYemen           11940.0\nZambia           5040.0\nZimbabwe        19200.0\nName: ConvertedComp, Length: 179, dtype: float64"
     },
     "execution_count": 185,
     "metadata": {},
     "output_type": "execute_result"
    }
   ],
   "source": [
    "country_group['ConvertedComp'].median()"
   ]
  },
  {
   "cell_type": "code",
   "execution_count": 186,
   "metadata": {},
   "outputs": [
    {
     "data": {
      "text/html": "<div>\n<style scoped>\n    .dataframe tbody tr th:only-of-type {\n        vertical-align: middle;\n    }\n\n    .dataframe tbody tr th {\n        vertical-align: top;\n    }\n\n    .dataframe thead th {\n        text-align: right;\n    }\n</style>\n<table border=\"1\" class=\"dataframe\">\n  <thead>\n    <tr style=\"text-align: right;\">\n      <th></th>\n      <th>median</th>\n      <th>mean</th>\n    </tr>\n    <tr>\n      <th>Country</th>\n      <th></th>\n      <th></th>\n    </tr>\n  </thead>\n  <tbody>\n    <tr>\n      <th>Afghanistan</th>\n      <td>6222.0</td>\n      <td>101953.333333</td>\n    </tr>\n    <tr>\n      <th>Albania</th>\n      <td>10818.0</td>\n      <td>21833.700000</td>\n    </tr>\n    <tr>\n      <th>Algeria</th>\n      <td>7878.0</td>\n      <td>34924.047619</td>\n    </tr>\n    <tr>\n      <th>Andorra</th>\n      <td>160931.0</td>\n      <td>160931.000000</td>\n    </tr>\n    <tr>\n      <th>...</th>\n      <td>...</td>\n      <td>...</td>\n    </tr>\n    <tr>\n      <th>Viet Nam</th>\n      <td>11892.0</td>\n      <td>17233.436782</td>\n    </tr>\n    <tr>\n      <th>Yemen</th>\n      <td>11940.0</td>\n      <td>16909.166667</td>\n    </tr>\n    <tr>\n      <th>Zambia</th>\n      <td>5040.0</td>\n      <td>10075.375000</td>\n    </tr>\n    <tr>\n      <th>Zimbabwe</th>\n      <td>19200.0</td>\n      <td>34046.666667</td>\n    </tr>\n  </tbody>\n</table>\n<p>179 rows × 2 columns</p>\n</div>",
      "text/plain": "               median           mean\nCountry                             \nAfghanistan    6222.0  101953.333333\nAlbania       10818.0   21833.700000\nAlgeria        7878.0   34924.047619\nAndorra      160931.0  160931.000000\n...               ...            ...\nViet Nam      11892.0   17233.436782\nYemen         11940.0   16909.166667\nZambia         5040.0   10075.375000\nZimbabwe      19200.0   34046.666667\n\n[179 rows x 2 columns]"
     },
     "execution_count": 186,
     "metadata": {},
     "output_type": "execute_result"
    }
   ],
   "source": [
    "country_group['ConvertedComp'].agg(['median', 'mean'])"
   ]
  },
  {
   "cell_type": "code",
   "execution_count": 191,
   "metadata": {},
   "outputs": [
    {
     "data": {
      "text/plain": "36443"
     },
     "execution_count": 191,
     "metadata": {},
     "output_type": "execute_result"
    }
   ],
   "source": [
    "df['LanguageWorkedWith'].str.contains('Python').sum()"
   ]
  },
  {
   "cell_type": "code",
   "execution_count": 195,
   "metadata": {},
   "outputs": [
    {
     "ename": "AttributeError",
     "evalue": "'SeriesGroupBy' object has no attribute 'str'",
     "output_type": "error",
     "traceback": [
      "\u001b[0;31m---------------------------------------------------------------------------\u001b[0m",
      "\u001b[0;31mAttributeError\u001b[0m                            Traceback (most recent call last)",
      "\u001b[0;32m<ipython-input-195-4e3478c63e26>\u001b[0m in \u001b[0;36m<module>\u001b[0;34m\u001b[0m\n\u001b[1;32m      1\u001b[0m \u001b[0;31m# This doesn't work, but is left in to show error\u001b[0m\u001b[0;34m\u001b[0m\u001b[0;34m\u001b[0m\u001b[0;34m\u001b[0m\u001b[0m\n\u001b[0;32m----> 2\u001b[0;31m \u001b[0mcountry_group\u001b[0m\u001b[0;34m[\u001b[0m\u001b[0;34m'LanguageWorkedWith'\u001b[0m\u001b[0;34m]\u001b[0m\u001b[0;34m.\u001b[0m\u001b[0mstr\u001b[0m\u001b[0;34m.\u001b[0m\u001b[0mcontains\u001b[0m\u001b[0;34m(\u001b[0m\u001b[0;34m'Python'\u001b[0m\u001b[0;34m)\u001b[0m\u001b[0;34m.\u001b[0m\u001b[0msum\u001b[0m\u001b[0;34m(\u001b[0m\u001b[0;34m)\u001b[0m\u001b[0;34m\u001b[0m\u001b[0;34m\u001b[0m\u001b[0m\n\u001b[0m",
      "\u001b[0;32m~/Projects/learning/pydata/coreyschafer/.venv/lib/python3.9/site-packages/pandas/core/groupby/groupby.py\u001b[0m in \u001b[0;36m__getattr__\u001b[0;34m(self, attr)\u001b[0m\n\u001b[1;32m    750\u001b[0m             \u001b[0;32mreturn\u001b[0m \u001b[0mself\u001b[0m\u001b[0;34m[\u001b[0m\u001b[0mattr\u001b[0m\u001b[0;34m]\u001b[0m\u001b[0;34m\u001b[0m\u001b[0;34m\u001b[0m\u001b[0m\n\u001b[1;32m    751\u001b[0m \u001b[0;34m\u001b[0m\u001b[0m\n\u001b[0;32m--> 752\u001b[0;31m         raise AttributeError(\n\u001b[0m\u001b[1;32m    753\u001b[0m             \u001b[0;34mf\"'{type(self).__name__}' object has no attribute '{attr}'\"\u001b[0m\u001b[0;34m\u001b[0m\u001b[0;34m\u001b[0m\u001b[0m\n\u001b[1;32m    754\u001b[0m         )\n",
      "\u001b[0;31mAttributeError\u001b[0m: 'SeriesGroupBy' object has no attribute 'str'"
     ]
    }
   ],
   "source": [
    "# This doesn't work, but is left in to show error\n",
    "country_group['LanguageWorkedWith'].str.contains('Python').sum()"
   ]
  },
  {
   "cell_type": "code",
   "execution_count": 202,
   "metadata": {},
   "outputs": [
    {
     "data": {
      "text/plain": "Country\nAfghanistan     8\nAlbania        23\nAlgeria        40\nAndorra         0\n               ..\nViet Nam       78\nYemen           3\nZambia          4\nZimbabwe       14\nName: LanguageWorkedWith, Length: 179, dtype: int64"
     },
     "execution_count": 202,
     "metadata": {},
     "output_type": "execute_result"
    }
   ],
   "source": [
    "def count_python_users(series):\n",
    "    return series.str.contains('Python').sum()\n",
    "\n",
    "country_group['LanguageWorkedWith'].apply(count_python_users)"
   ]
  },
  {
   "cell_type": "markdown",
   "metadata": {},
   "source": [
    "What if we want the percentages of people who do Python though?"
   ]
  },
  {
   "cell_type": "code",
   "execution_count": 203,
   "metadata": {},
   "outputs": [
    {
     "data": {
      "text/plain": "United States                       20949\nIndia                                9061\nGermany                              5866\nUnited Kingdom                       5737\n                                    ...  \nPapua New Guinea                        1\nDominica                                1\nSaint Vincent and the Grenadines        1\nTonga                                   1\nName: Country, Length: 179, dtype: int64"
     },
     "execution_count": 203,
     "metadata": {},
     "output_type": "execute_result"
    }
   ],
   "source": [
    "country_respondents = df['Country'].value_counts()\n",
    "country_respondents"
   ]
  },
  {
   "cell_type": "code",
   "execution_count": 204,
   "metadata": {},
   "outputs": [],
   "source": [
    "country_python_respondents = country_group['LanguageWorkedWith'].apply(lambda x: count_python_users(x))"
   ]
  },
  {
   "cell_type": "code",
   "execution_count": 218,
   "metadata": {},
   "outputs": [
    {
     "data": {
      "text/plain": "Afghanistan    0.181818\nAlbania        0.267442\nAlgeria        0.298507\nAndorra        0.000000\n                 ...   \nViet Nam       0.337662\nYemen          0.157895\nZambia         0.333333\nZimbabwe       0.358974\nLength: 179, dtype: float64"
     },
     "execution_count": 218,
     "metadata": {},
     "output_type": "execute_result"
    }
   ],
   "source": [
    "country_python_respondents / country_respondents"
   ]
  },
  {
   "cell_type": "code",
   "execution_count": 209,
   "metadata": {},
   "outputs": [
    {
     "data": {
      "text/html": "<div>\n<style scoped>\n    .dataframe tbody tr th:only-of-type {\n        vertical-align: middle;\n    }\n\n    .dataframe tbody tr th {\n        vertical-align: top;\n    }\n\n    .dataframe thead th {\n        text-align: right;\n    }\n</style>\n<table border=\"1\" class=\"dataframe\">\n  <thead>\n    <tr style=\"text-align: right;\">\n      <th></th>\n      <th>Country</th>\n      <th>LanguageWorkedWith</th>\n    </tr>\n  </thead>\n  <tbody>\n    <tr>\n      <th>United States</th>\n      <td>20949</td>\n      <td>10083</td>\n    </tr>\n    <tr>\n      <th>India</th>\n      <td>9061</td>\n      <td>3105</td>\n    </tr>\n    <tr>\n      <th>Germany</th>\n      <td>5866</td>\n      <td>2451</td>\n    </tr>\n    <tr>\n      <th>United Kingdom</th>\n      <td>5737</td>\n      <td>2384</td>\n    </tr>\n    <tr>\n      <th>...</th>\n      <td>...</td>\n      <td>...</td>\n    </tr>\n    <tr>\n      <th>Papua New Guinea</th>\n      <td>1</td>\n      <td>0</td>\n    </tr>\n    <tr>\n      <th>Dominica</th>\n      <td>1</td>\n      <td>1</td>\n    </tr>\n    <tr>\n      <th>Saint Vincent and the Grenadines</th>\n      <td>1</td>\n      <td>0</td>\n    </tr>\n    <tr>\n      <th>Tonga</th>\n      <td>1</td>\n      <td>0</td>\n    </tr>\n  </tbody>\n</table>\n<p>179 rows × 2 columns</p>\n</div>",
      "text/plain": "                                  Country  LanguageWorkedWith\nUnited States                       20949               10083\nIndia                                9061                3105\nGermany                              5866                2451\nUnited Kingdom                       5737                2384\n...                                   ...                 ...\nPapua New Guinea                        1                   0\nDominica                                1                   1\nSaint Vincent and the Grenadines        1                   0\nTonga                                   1                   0\n\n[179 rows x 2 columns]"
     },
     "execution_count": 209,
     "metadata": {},
     "output_type": "execute_result"
    }
   ],
   "source": [
    "python = pd.concat(\n",
    "    [country_respondents, country_python_respondents],\n",
    "    axis='columns'\n",
    ")\n",
    "python"
   ]
  },
  {
   "cell_type": "code",
   "execution_count": 213,
   "metadata": {},
   "outputs": [
    {
     "data": {
      "text/html": "<div>\n<style scoped>\n    .dataframe tbody tr th:only-of-type {\n        vertical-align: middle;\n    }\n\n    .dataframe tbody tr th {\n        vertical-align: top;\n    }\n\n    .dataframe thead th {\n        text-align: right;\n    }\n</style>\n<table border=\"1\" class=\"dataframe\">\n  <thead>\n    <tr style=\"text-align: right;\">\n      <th></th>\n      <th>NumRespondents</th>\n      <th>NumKnowsPython</th>\n    </tr>\n  </thead>\n  <tbody>\n    <tr>\n      <th>United States</th>\n      <td>20949</td>\n      <td>10083</td>\n    </tr>\n    <tr>\n      <th>India</th>\n      <td>9061</td>\n      <td>3105</td>\n    </tr>\n    <tr>\n      <th>Germany</th>\n      <td>5866</td>\n      <td>2451</td>\n    </tr>\n    <tr>\n      <th>United Kingdom</th>\n      <td>5737</td>\n      <td>2384</td>\n    </tr>\n    <tr>\n      <th>...</th>\n      <td>...</td>\n      <td>...</td>\n    </tr>\n    <tr>\n      <th>Papua New Guinea</th>\n      <td>1</td>\n      <td>0</td>\n    </tr>\n    <tr>\n      <th>Dominica</th>\n      <td>1</td>\n      <td>1</td>\n    </tr>\n    <tr>\n      <th>Saint Vincent and the Grenadines</th>\n      <td>1</td>\n      <td>0</td>\n    </tr>\n    <tr>\n      <th>Tonga</th>\n      <td>1</td>\n      <td>0</td>\n    </tr>\n  </tbody>\n</table>\n<p>179 rows × 2 columns</p>\n</div>",
      "text/plain": "                                  NumRespondents  NumKnowsPython\nUnited States                              20949           10083\nIndia                                       9061            3105\nGermany                                     5866            2451\nUnited Kingdom                              5737            2384\n...                                          ...             ...\nPapua New Guinea                               1               0\nDominica                                       1               1\nSaint Vincent and the Grenadines               1               0\nTonga                                          1               0\n\n[179 rows x 2 columns]"
     },
     "execution_count": 213,
     "metadata": {},
     "output_type": "execute_result"
    }
   ],
   "source": [
    "python.rename(\n",
    "    columns={'Country': 'NumRespondents', 'LanguageWorkedWith': 'NumKnowsPython'},\n",
    "    inplace=True)\n",
    "python"
   ]
  },
  {
   "cell_type": "code",
   "execution_count": 220,
   "metadata": {},
   "outputs": [
    {
     "data": {
      "text/html": "<div>\n<style scoped>\n    .dataframe tbody tr th:only-of-type {\n        vertical-align: middle;\n    }\n\n    .dataframe tbody tr th {\n        vertical-align: top;\n    }\n\n    .dataframe thead th {\n        text-align: right;\n    }\n</style>\n<table border=\"1\" class=\"dataframe\">\n  <thead>\n    <tr style=\"text-align: right;\">\n      <th></th>\n      <th>NumRespondents</th>\n      <th>NumKnowsPython</th>\n      <th>PctKnowsPython</th>\n    </tr>\n  </thead>\n  <tbody>\n    <tr>\n      <th>United States</th>\n      <td>20949</td>\n      <td>10083</td>\n      <td>0.481312</td>\n    </tr>\n    <tr>\n      <th>India</th>\n      <td>9061</td>\n      <td>3105</td>\n      <td>0.342677</td>\n    </tr>\n    <tr>\n      <th>Germany</th>\n      <td>5866</td>\n      <td>2451</td>\n      <td>0.417832</td>\n    </tr>\n    <tr>\n      <th>United Kingdom</th>\n      <td>5737</td>\n      <td>2384</td>\n      <td>0.415548</td>\n    </tr>\n    <tr>\n      <th>...</th>\n      <td>...</td>\n      <td>...</td>\n      <td>...</td>\n    </tr>\n    <tr>\n      <th>Papua New Guinea</th>\n      <td>1</td>\n      <td>0</td>\n      <td>0.000000</td>\n    </tr>\n    <tr>\n      <th>Dominica</th>\n      <td>1</td>\n      <td>1</td>\n      <td>1.000000</td>\n    </tr>\n    <tr>\n      <th>Saint Vincent and the Grenadines</th>\n      <td>1</td>\n      <td>0</td>\n      <td>0.000000</td>\n    </tr>\n    <tr>\n      <th>Tonga</th>\n      <td>1</td>\n      <td>0</td>\n      <td>0.000000</td>\n    </tr>\n  </tbody>\n</table>\n<p>179 rows × 3 columns</p>\n</div>",
      "text/plain": "                                  NumRespondents  NumKnowsPython  \\\nUnited States                              20949           10083   \nIndia                                       9061            3105   \nGermany                                     5866            2451   \nUnited Kingdom                              5737            2384   \n...                                          ...             ...   \nPapua New Guinea                               1               0   \nDominica                                       1               1   \nSaint Vincent and the Grenadines               1               0   \nTonga                                          1               0   \n\n                                  PctKnowsPython  \nUnited States                           0.481312  \nIndia                                   0.342677  \nGermany                                 0.417832  \nUnited Kingdom                          0.415548  \n...                                          ...  \nPapua New Guinea                        0.000000  \nDominica                                1.000000  \nSaint Vincent and the Grenadines        0.000000  \nTonga                                   0.000000  \n\n[179 rows x 3 columns]"
     },
     "execution_count": 220,
     "metadata": {},
     "output_type": "execute_result"
    }
   ],
   "source": [
    "python['PctKnowsPython'] = python['NumKnowsPython'] / python['NumRespondents']\n",
    "python"
   ]
  },
  {
   "cell_type": "code",
   "execution_count": 225,
   "metadata": {},
   "outputs": [
    {
     "data": {
      "text/html": "<div>\n<style scoped>\n    .dataframe tbody tr th:only-of-type {\n        vertical-align: middle;\n    }\n\n    .dataframe tbody tr th {\n        vertical-align: top;\n    }\n\n    .dataframe thead th {\n        text-align: right;\n    }\n</style>\n<table border=\"1\" class=\"dataframe\">\n  <thead>\n    <tr style=\"text-align: right;\">\n      <th></th>\n      <th>NumRespondents</th>\n      <th>NumKnowsPython</th>\n      <th>PctKnowsPython</th>\n    </tr>\n  </thead>\n  <tbody>\n    <tr>\n      <th>Timor-Leste</th>\n      <td>1</td>\n      <td>1</td>\n      <td>1.0</td>\n    </tr>\n    <tr>\n      <th>Sao Tome and Principe</th>\n      <td>1</td>\n      <td>1</td>\n      <td>1.0</td>\n    </tr>\n    <tr>\n      <th>Niger</th>\n      <td>1</td>\n      <td>1</td>\n      <td>1.0</td>\n    </tr>\n    <tr>\n      <th>Dominica</th>\n      <td>1</td>\n      <td>1</td>\n      <td>1.0</td>\n    </tr>\n    <tr>\n      <th>...</th>\n      <td>...</td>\n      <td>...</td>\n      <td>...</td>\n    </tr>\n    <tr>\n      <th>Lao People's Democratic Republic</th>\n      <td>3</td>\n      <td>0</td>\n      <td>0.0</td>\n    </tr>\n    <tr>\n      <th>Gabon</th>\n      <td>2</td>\n      <td>0</td>\n      <td>0.0</td>\n    </tr>\n    <tr>\n      <th>Chad</th>\n      <td>1</td>\n      <td>0</td>\n      <td>0.0</td>\n    </tr>\n    <tr>\n      <th>Tonga</th>\n      <td>1</td>\n      <td>0</td>\n      <td>0.0</td>\n    </tr>\n  </tbody>\n</table>\n<p>179 rows × 3 columns</p>\n</div>",
      "text/plain": "                                  NumRespondents  NumKnowsPython  \\\nTimor-Leste                                    1               1   \nSao Tome and Principe                          1               1   \nNiger                                          1               1   \nDominica                                       1               1   \n...                                          ...             ...   \nLao People's Democratic Republic               3               0   \nGabon                                          2               0   \nChad                                           1               0   \nTonga                                          1               0   \n\n                                  PctKnowsPython  \nTimor-Leste                                  1.0  \nSao Tome and Principe                        1.0  \nNiger                                        1.0  \nDominica                                     1.0  \n...                                          ...  \nLao People's Democratic Republic             0.0  \nGabon                                        0.0  \nChad                                         0.0  \nTonga                                        0.0  \n\n[179 rows x 3 columns]"
     },
     "execution_count": 225,
     "metadata": {},
     "output_type": "execute_result"
    }
   ],
   "source": [
    "python.sort_values('PctKnowsPython', ascending=False, inplace=True)\n",
    "python"
   ]
  },
  {
   "cell_type": "code",
   "execution_count": 229,
   "metadata": {},
   "outputs": [
    {
     "data": {
      "text/html": "<div>\n<style scoped>\n    .dataframe tbody tr th:only-of-type {\n        vertical-align: middle;\n    }\n\n    .dataframe tbody tr th {\n        vertical-align: top;\n    }\n\n    .dataframe thead th {\n        text-align: right;\n    }\n</style>\n<table border=\"1\" class=\"dataframe\">\n  <thead>\n    <tr style=\"text-align: right;\">\n      <th></th>\n      <th>NumRespondents</th>\n      <th>NumKnowsPython</th>\n      <th>PctKnowsPython</th>\n    </tr>\n  </thead>\n  <tbody>\n    <tr>\n      <th>United States</th>\n      <td>20949</td>\n      <td>10083</td>\n      <td>0.481312</td>\n    </tr>\n    <tr>\n      <th>Canada</th>\n      <td>3395</td>\n      <td>1558</td>\n      <td>0.458910</td>\n    </tr>\n    <tr>\n      <th>France</th>\n      <td>2391</td>\n      <td>1054</td>\n      <td>0.440820</td>\n    </tr>\n    <tr>\n      <th>Russian Federation</th>\n      <td>1694</td>\n      <td>708</td>\n      <td>0.417946</td>\n    </tr>\n    <tr>\n      <th>...</th>\n      <td>...</td>\n      <td>...</td>\n      <td>...</td>\n    </tr>\n    <tr>\n      <th>Australia</th>\n      <td>1903</td>\n      <td>790</td>\n      <td>0.415134</td>\n    </tr>\n    <tr>\n      <th>Netherlands</th>\n      <td>1852</td>\n      <td>767</td>\n      <td>0.414147</td>\n    </tr>\n    <tr>\n      <th>Spain</th>\n      <td>1604</td>\n      <td>641</td>\n      <td>0.399626</td>\n    </tr>\n    <tr>\n      <th>Italy</th>\n      <td>1576</td>\n      <td>625</td>\n      <td>0.396574</td>\n    </tr>\n  </tbody>\n</table>\n<p>10 rows × 3 columns</p>\n</div>",
      "text/plain": "                    NumRespondents  NumKnowsPython  PctKnowsPython\nUnited States                20949           10083        0.481312\nCanada                        3395            1558        0.458910\nFrance                        2391            1054        0.440820\nRussian Federation            1694             708        0.417946\n...                            ...             ...             ...\nAustralia                     1903             790        0.415134\nNetherlands                   1852             767        0.414147\nSpain                         1604             641        0.399626\nItaly                         1576             625        0.396574\n\n[10 rows x 3 columns]"
     },
     "execution_count": 229,
     "metadata": {},
     "output_type": "execute_result"
    }
   ],
   "source": [
    "python[python['NumRespondents'] > 1000].head(10)"
   ]
  },
  {
   "cell_type": "code",
   "execution_count": 230,
   "metadata": {},
   "outputs": [
    {
     "data": {
      "text/plain": "NumRespondents    391.000000\nNumKnowsPython    182.000000\nPctKnowsPython      0.465473\nName: Japan, dtype: float64"
     },
     "execution_count": 230,
     "metadata": {},
     "output_type": "execute_result"
    }
   ],
   "source": [
    "python.loc['Japan']"
   ]
  }
 ],
 "metadata": {
  "kernelspec": {
   "display_name": "Python 3.9.1 64-bit ('.venv')",
   "name": "python391jvsc74a57bd0ed86c040db930b78fbc0c08690ae26009886b8a2aa20451cbe44bd98eecf8da8"
  },
  "language_info": {
   "codemirror_mode": {
    "name": "ipython",
    "version": 3
   },
   "file_extension": ".py",
   "mimetype": "text/x-python",
   "name": "python",
   "nbconvert_exporter": "python",
   "pygments_lexer": "ipython3",
   "version": "3.9.1"
  }
 },
 "nbformat": 4,
 "nbformat_minor": 5
}